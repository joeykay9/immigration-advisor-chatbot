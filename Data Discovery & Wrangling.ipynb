{
 "cells": [
  {
   "cell_type": "code",
   "execution_count": 62,
   "metadata": {},
   "outputs": [],
   "source": [
    "# install webdriver-manager if not already installed\n",
    "! pip install webdriver-manager"
   ]
  },
  {
   "cell_type": "code",
   "execution_count": 1,
   "metadata": {},
   "outputs": [],
   "source": [
    "from selenium import webdriver\n",
    "from webdriver_manager.chrome import ChromeDriverManager \n",
    "from bs4 import BeautifulSoup\n",
    "import pandas as pd\n",
    "import re"
   ]
  },
  {
   "cell_type": "code",
   "execution_count": 2,
   "metadata": {},
   "outputs": [
    {
     "output_type": "stream",
     "name": "stderr",
     "text": "[WDM] - Current google-chrome version is 83.0.4103\n[WDM] - Get LATEST driver version for 83.0.4103\n \n[WDM] - Driver [C:\\Users\\Joel\\.wdm\\drivers\\chromedriver\\win32\\83.0.4103.39\\chromedriver.exe] found in cache\n"
    }
   ],
   "source": [
    "#Get points based system immigration rules(part 6a) web page\n",
    "driver = webdriver.Chrome(ChromeDriverManager().install())\n",
    "driver.get(\"https://www.gov.uk/guidance/immigration-rules/immigration-rules-part-6a-the-points-based-system\")"
   ]
  },
  {
   "cell_type": "code",
   "execution_count": 3,
   "metadata": {},
   "outputs": [],
   "source": [
    "documents = []\n",
    "paragraph_headings = []\n",
    "paragraphs = []\n",
    "attributes = []\n",
    "rules = []\n",
    "\n",
    "content = driver.page_source\n",
    "soup = BeautifulSoup(content)\n",
    "driver.close()"
   ]
  },
  {
   "cell_type": "code",
   "execution_count": 4,
   "metadata": {},
   "outputs": [],
   "source": [
    "for paragraph in soup.findAll('h2', attrs={'class': 'js-subsection-title'}):\n",
    "    if(re.search(\"^\\d\", paragraph.text)):\n",
    "        paragraph_headings.append(paragraph.text)\n",
    "\n",
    "for paragraph in soup.findAll('h3'):\n",
    "    if(re.search(\"^\\d\", paragraph.text)):\n",
    "        paragraph_headings.append(paragraph.text)\n",
    "\n",
    "# Remove deleted paragraphs from paragraph_headings list\n",
    "deleted_paragraph_headings = []\n",
    "\n",
    "for paragraph_heading in paragraph_headings:\n",
    "    if(re.search(\"DELETED$\", paragraph_heading)):\n",
    "        deleted_paragraph_headings.append(paragraph_heading)\n",
    "        \n",
    "for paragraph_heading in deleted_paragraph_headings:\n",
    "    paragraph_headings.remove(paragraph_heading)"
   ]
  },
  {
   "cell_type": "code",
   "execution_count": 5,
   "metadata": {},
   "outputs": [],
   "source": [
    "for i, div in enumerate(soup.findAll(attrs={'class': 'js-subsection-body body-content-wrapper'})):\n",
    "    paragraphs.append(div.text)\n",
    "    if(i == 2):\n",
    "        break"
   ]
  },
  {
   "cell_type": "code",
   "execution_count": 6,
   "metadata": {},
   "outputs": [],
   "source": [
    "p = \"\" #Initialize empty paragraph\n",
    "for j, div in enumerate(soup.findAll(attrs={'class': 'js-subsection-body body-content-wrapper'})):\n",
    "    if(j >= 3): #Start operation from 4th section\n",
    "        for k, tag in enumerate(div.contents): #Loop through the tags in each section\n",
    "            if(k == 0 and tag.name != 'h3'): #Skip section if first tag is not an h3 tag\n",
    "                break\n",
    "            if(tag.name == 'h3' and tag.text != 'Notes'): #If tag is an h3 tag and and not a table notes section\n",
    "                if(p != \"\"):\n",
    "                    paragraphs.append(p) #Append paragraph to list of paragraphs if paragraph is not empty\n",
    "                p = \"\" #Empty paragraph\n",
    "            if(tag.name == 'p' or tag.name == 'ol' or tag.name == 'table'):\n",
    "                p = p + tag.text #Concatenate tag texts if tag is a p, ol or table tag.\n",
    "\n",
    "paragraphs.append(p) #Append last concatenated paragraph to list of paragraphs"
   ]
  },
  {
   "cell_type": "code",
   "execution_count": 7,
   "metadata": {},
   "outputs": [
    {
     "output_type": "execute_result",
     "data": {
      "text/plain": "62"
     },
     "metadata": {},
     "execution_count": 7
    }
   ],
   "source": [
    "len(paragraph_headings)"
   ]
  },
  {
   "cell_type": "code",
   "execution_count": 8,
   "metadata": {},
   "outputs": [
    {
     "output_type": "execute_result",
     "data": {
      "text/plain": "62"
     },
     "metadata": {},
     "execution_count": 8
    }
   ],
   "source": [
    "len(paragraphs)"
   ]
  },
  {
   "cell_type": "code",
   "execution_count": null,
   "metadata": {},
   "outputs": [],
   "source": [
    "df = pd.DataFrame({'Paragraph': paragraph_headings, 'Content': paragraphs})\n",
    "df.to_csv('immigration.csv', index=False, encoding='UTF8', header=False)"
   ]
  },
  {
   "cell_type": "code",
   "execution_count": 9,
   "metadata": {},
   "outputs": [],
   "source": [
    "from py2neo import Graph, Node, Relationship\n",
    "\n",
    "graph = Graph('bolt://localhost:7687', auth=('neo4j', 'Undertaker11.'))"
   ]
  },
  {
   "cell_type": "code",
   "execution_count": 10,
   "metadata": {},
   "outputs": [
    {
     "output_type": "stream",
     "name": "stderr",
     "text": "[WDM] - Current google-chrome version is 83.0.4103\n[WDM] - Get LATEST driver version for 83.0.4103\n[WDM] - Driver [C:\\Users\\Joel\\.wdm\\drivers\\chromedriver\\win32\\83.0.4103.39\\chromedriver.exe] found in cache\n \n"
    }
   ],
   "source": [
    "#Get immigration rules index page\n",
    "driver = webdriver.Chrome(ChromeDriverManager().install())\n",
    "driver.get(\"https://www.gov.uk/guidance/immigration-rules/immigration-rules-index\")\n",
    "\n",
    "content = driver.page_source\n",
    "soup = BeautifulSoup(content)"
   ]
  },
  {
   "cell_type": "code",
   "execution_count": 129,
   "metadata": {},
   "outputs": [],
   "source": [
    "documents = []\n",
    "\"\"\"Creating a Document Node for the Part 6A: Points-Based System document\"\"\"\n",
    "for doc in soup.findAll('tr'):\n",
    "    if(doc.a):\n",
    "        title = doc.a.text\n",
    "        url = doc.a['href']\n",
    "        tx = graph.begin()\n",
    "        tx.evaluate('''\n",
    "            CREATE (doc:Document {title: $title, url: $url})\n",
    "            ''', parameters = {'title': title, 'url': url})\n",
    "        tx.commit()\n",
    "        documents.append(title)"
   ]
  },
  {
   "cell_type": "code",
   "execution_count": 11,
   "metadata": {},
   "outputs": [
    {
     "output_type": "execute_result",
     "data": {
      "text/plain": "[]"
     },
     "metadata": {},
     "execution_count": 11
    }
   ],
   "source": [
    "documents"
   ]
  },
  {
   "cell_type": "code",
   "execution_count": 131,
   "metadata": {},
   "outputs": [],
   "source": [
    "#Get points based system immigration rules(part 6a) web page\n",
    "driver = webdriver.Chrome(\"C:\\chromedriver_win32\\chromedriver.exe\")\n",
    "driver.get(\"https://www.gov.uk/guidance/immigration-rules/immigration-rules-part-6a-the-points-based-system\")\n",
    "\n",
    "content = driver.page_source\n",
    "soup = BeautifulSoup(content)\n",
    "\n",
    "\"\"\"Creating a Section Node for Tier 4 (General) Student section\"\"\"\n",
    "for section in soup.findAll(attrs={'class': 'js-subsection-title'}):\n",
    "#     if(section.text == \"Tier 4 (General) Student\"):\n",
    "        tx = graph.begin()\n",
    "        tx.evaluate('''\n",
    "            CREATE (sec:Section {title: $title})\n",
    "            ''', parameters = {'title': section.text})\n",
    "        tx.evaluate('''\n",
    "            MATCH (doc:Document), (sec:Section) \n",
    "            WHERE sec.title = $title AND doc.title = \"Part 6A: Points-Based System\"\n",
    "            CREATE (doc)-[: CONTAINS]->(sec)\n",
    "            ''', parameters = {'title': section.text})\n",
    "        tx.commit()"
   ]
  },
  {
   "cell_type": "code",
   "execution_count": 132,
   "metadata": {},
   "outputs": [],
   "source": [
    "\"\"\"Creating Paragraph Nodes for Paragraphs under the Tier 4 (General) Student section\"\"\"\n",
    "par_content = \"\"\n",
    "for section in soup.findAll(attrs={'class': 'js-openable'}):\n",
    "    if(section.h2.text == \"Tier 4 (General) Student\"): # Focus on Tier 4 (General) Student section\n",
    "        for tag in section.div.contents: # Loop through tags in section\n",
    "            if(tag.name == 'h3' and tag.text != 'Notes'): # If it is an h3 tag and the tag's text is not a Notes section\n",
    "                if(par_content != \"\"):\n",
    "                    tx = graph.begin()\n",
    "                    tx.evaluate('''\n",
    "                        CREATE (par:Paragraph {title: $title, content: $content})\n",
    "                        ''', parameters = {'title': par_title, 'content': par_content})\n",
    "                    tx.evaluate('''\n",
    "                        MATCH (sec:Section), (par:Paragraph) \n",
    "                        WHERE sec.title = \"Tier 4 (General) Student\" AND par.title = $title\n",
    "                        CREATE (sec)-[: CONTAINS]->(par) \n",
    "                        ''', parameters = {'title': par_title})\n",
    "                    tx.commit()\n",
    "                par_title = tag.text\n",
    "            else:\n",
    "                par_content = par_content + tag.text\n",
    "\n",
    "# For last paragraph in the section\n",
    "tx = graph.begin()\n",
    "tx.evaluate('''\n",
    "    CREATE (sec:Paragraph {title: $title, content: $content})\n",
    "    ''', parameters = {'title': par_title, 'content': par_content})\n",
    "tx.evaluate('''\n",
    "    MATCH (sec:Section), (par:Paragraph) \n",
    "    WHERE sec.title = \"Tier 4 (General) Student\" AND par.title = $title\n",
    "    CREATE (sec)-[: CONTAINS]->(par) \n",
    "    ''', parameters = {'title': par_title})\n",
    "tx.commit()"
   ]
  }
 ],
 "metadata": {
  "kernelspec": {
   "display_name": "Python 3",
   "language": "python",
   "name": "python3"
  },
  "language_info": {
   "codemirror_mode": {
    "name": "ipython",
    "version": 3
   },
   "file_extension": ".py",
   "mimetype": "text/x-python",
   "name": "python",
   "nbconvert_exporter": "python",
   "pygments_lexer": "ipython3",
   "version": "3.7.3-final"
  }
 },
 "nbformat": 4,
 "nbformat_minor": 2
}
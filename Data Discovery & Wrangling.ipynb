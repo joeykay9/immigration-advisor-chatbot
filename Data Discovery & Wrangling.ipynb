{
 "cells": [
  {
   "cell_type": "code",
   "execution_count": 1,
   "metadata": {
    "tags": []
   },
   "outputs": [
    {
     "output_type": "stream",
     "name": "stdout",
     "text": "Name: selenium\nVersion: 3.141.0\nSummary: Python bindings for Selenium\nHome-page: https://github.com/SeleniumHQ/selenium/\nAuthor: UNKNOWN\nAuthor-email: UNKNOWN\nLicense: Apache 2.0\nLocation: c:\\users\\joel\\anaconda3\\lib\\site-packages\nRequires: urllib3\nRequired-by: \n---\nName: webdriver-manager\nVersion: 3.2.1\nSummary: Library provides the way to automatically manage drivers for different browsers\nHome-page: https://github.com/SergeyPirogov/webdriver_manager\nAuthor: Sergey Pirogov\nAuthor-email: automationremarks@gmail.com\nLicense: UNKNOWN\nLocation: c:\\users\\joel\\anaconda3\\lib\\site-packages\nRequires: configparser, requests, crayons\nRequired-by: \n---\nName: pandas\nVersion: 0.24.1\nSummary: Powerful data structures for data analysis, time series, and statistics\nHome-page: http://pandas.pydata.org\nAuthor: None\nAuthor-email: None\nLicense: BSD\nLocation: c:\\users\\joel\\anaconda3\\lib\\site-packages\nRequires: numpy, python-dateutil, pytz\nRequired-by: statsmodels, seaborn\n---\nName: beautifulsoup4\nVersion: 4.7.1\nSummary: Screen-scraping library\nHome-page: http://www.crummy.com/software/BeautifulSoup/bs4/\nAuthor: Leonard Richardson\nAuthor-email: leonardr@segfault.org\nLicense: MIT\nLocation: c:\\users\\joel\\anaconda3\\lib\\site-packages\nRequires: soupsieve\nRequired-by: conda-build\n---\nName: py2neo\nVersion: 4.3.0\nSummary: Python client library and toolkit for Neo4j\nHome-page: http://py2neo.org/\nAuthor: Nigel Small <technige@nige.tech>\nAuthor-email: py2neo@nige.tech\nLicense: Apache License, Version 2.0\nLocation: c:\\users\\joel\\anaconda3\\lib\\site-packages\nRequires: certifi, colorama, click, neotime, urllib3, pytz, neobolt, prompt-toolkit, pygments\nRequired-by: \n"
    }
   ],
   "source": [
    "# Check if project packages are installed\n",
    "! pip show selenium webdriver-manager pandas beautifulsoup4 py2neo"
   ]
  },
  {
   "cell_type": "code",
   "execution_count": 16,
   "metadata": {},
   "outputs": [
    {
     "output_type": "stream",
     "name": "stdout",
     "text": "Requirement already satisfied: selenium in c:\\users\\joel\\anaconda3\\lib\\site-packages (3.141.0)\nRequirement already satisfied: webdriver-manager in c:\\users\\joel\\anaconda3\\lib\\site-packages (3.2.1)\nRequirement already satisfied: pandas in c:\\users\\joel\\anaconda3\\lib\\site-packages (0.24.1)\nRequirement already satisfied: beautifulsoup4 in c:\\users\\joel\\anaconda3\\lib\\site-packages (4.7.1)\nRequirement already satisfied: py2neo in c:\\users\\joel\\anaconda3\\lib\\site-packages (4.3.0)\nRequirement already satisfied: urllib3 in c:\\users\\joel\\anaconda3\\lib\\site-packages (from selenium) (1.24.2)\nRequirement already satisfied: requests in c:\\users\\joel\\anaconda3\\lib\\site-packages (from webdriver-manager) (2.22.0)\nRequirement already satisfied: configparser in c:\\users\\joel\\anaconda3\\lib\\site-packages (from webdriver-manager) (5.0.0)\nRequirement already satisfied: crayons in c:\\users\\joel\\anaconda3\\lib\\site-packages (from webdriver-manager) (0.3.1)\nRequirement already satisfied: numpy>=1.12.0 in c:\\users\\joel\\anaconda3\\lib\\site-packages (from pandas) (1.16.4)\nRequirement already satisfied: pytz>=2011k in c:\\users\\joel\\anaconda3\\lib\\site-packages (from pandas) (2019.1)\nRequirement already satisfied: python-dateutil>=2.5.0 in c:\\users\\joel\\anaconda3\\lib\\site-packages (from pandas) (2.8.0)\nRequirement already satisfied: soupsieve>=1.2 in c:\\users\\joel\\anaconda3\\lib\\site-packages (from beautifulsoup4) (1.8)\nRequirement already satisfied: click==7.0 in c:\\users\\joel\\anaconda3\\lib\\site-packages (from py2neo) (7.0)\nRequirement already satisfied: prompt-toolkit~=2.0.7 in c:\\users\\joel\\anaconda3\\lib\\site-packages (from py2neo) (2.0.9)\nRequirement already satisfied: neobolt~=1.7.12 in c:\\users\\joel\\anaconda3\\lib\\site-packages (from py2neo) (1.7.17)\nRequirement already satisfied: pygments~=2.3.1 in c:\\users\\joel\\anaconda3\\lib\\site-packages (from py2neo) (2.3.1)\nRequirement already satisfied: certifi in c:\\users\\joel\\anaconda3\\lib\\site-packages (from py2neo) (2020.4.5.1)\nRequirement already satisfied: colorama in c:\\users\\joel\\anaconda3\\lib\\site-packages (from py2neo) (0.4.1)\nRequirement already satisfied: neotime~=1.7.4 in c:\\users\\joel\\anaconda3\\lib\\site-packages (from py2neo) (1.7.4)\nRequirement already satisfied: idna<2.9,>=2.5 in c:\\users\\joel\\anaconda3\\lib\\site-packages (from requests->webdriver-manager) (2.8)\nRequirement already satisfied: chardet<3.1.0,>=3.0.2 in c:\\users\\joel\\anaconda3\\lib\\site-packages (from requests->webdriver-manager) (3.0.4)\nRequirement already satisfied: six>=1.5 in c:\\users\\joel\\anaconda3\\lib\\site-packages (from python-dateutil>=2.5.0->pandas) (1.12.0)\nRequirement already satisfied: wcwidth in c:\\users\\joel\\anaconda3\\lib\\site-packages (from prompt-toolkit~=2.0.7->py2neo) (0.1.7)\n"
    }
   ],
   "source": [
    "# install packages if not already installed\n",
    "! pip install selenium webdriver-manager pandas beautifulsoup4 py2neo"
   ]
  },
  {
   "cell_type": "code",
   "execution_count": 1,
   "metadata": {},
   "outputs": [],
   "source": [
    "# Import packages\n",
    "from selenium import webdriver\n",
    "from webdriver_manager.chrome import ChromeDriverManager \n",
    "from bs4 import BeautifulSoup\n",
    "import pandas as pd\n",
    "import re\n",
    "from py2neo import Graph, Node, Relationship, NodeMatcher, RelationshipMatcher"
   ]
  },
  {
   "cell_type": "code",
   "execution_count": 2,
   "metadata": {},
   "outputs": [],
   "source": [
    "#URL constants\n",
    "GOV_UK_HOME_URL = \"https://www.gov.uk\"\n",
    "DOCUMENTS_URL = \"https://www.gov.uk/guidance/immigration-rules\"\n",
    "POINT_BASED_SYSTEM_URL = \"https://www.gov.uk/guidance/immigration-rules/immigration-rules-part-6a-the-points-based-system\""
   ]
  },
  {
   "cell_type": "code",
   "execution_count": 3,
   "metadata": {},
   "outputs": [],
   "source": [
    "# Establish database connection\n",
    "\n",
    "graph = Graph('bolt://localhost:7687', auth=('neo4j', 'Undertaker11.'))"
   ]
  },
  {
   "cell_type": "code",
   "execution_count": 4,
   "metadata": {},
   "outputs": [],
   "source": [
    "matcher = NodeMatcher(graph)"
   ]
  },
  {
   "cell_type": "code",
   "execution_count": 9,
   "metadata": {
    "tags": []
   },
   "outputs": [
    {
     "output_type": "stream",
     "name": "stderr",
     "text": "[WDM] - Current google-chrome version is 83.0.4103\n[WDM] - Get LATEST driver version for 83.0.4103\n[WDM] - Driver [C:\\Users\\Joel\\.wdm\\drivers\\chromedriver\\win32\\83.0.4103.39\\chromedriver.exe] found in cache\n \n"
    }
   ],
   "source": [
    "#Open documents url for scraping\n",
    "driver = webdriver.Chrome(ChromeDriverManager().install())\n",
    "driver.get(DOCUMENTS_URL)\n",
    "\n",
    "content = driver.page_source\n",
    "soup = BeautifulSoup(content)\n",
    "\n",
    "driver.close()"
   ]
  },
  {
   "cell_type": "code",
   "execution_count": 10,
   "metadata": {
    "tags": []
   },
   "outputs": [],
   "source": [
    "\"\"\"Creating Immigration Document Nodes\"\"\"\n",
    "docs = soup.find(attrs={'class': 'section-list'})\n",
    "for doc_list_item in docs.findAll('li'):\n",
    "    title = doc_list_item.a.find('span', attrs={\n",
    "        'class': 'subsection-title-text'}\n",
    "        ).text\n",
    "    summary = doc_list_item.a.find('span', attrs={\n",
    "        'class': 'subsection-summary'}\n",
    "        ).text\n",
    "    url = GOV_UK_HOME_URL + doc_list_item.a['href']\n",
    "    \n",
    "    tx = graph.begin()\n",
    "    tx.evaluate('''\n",
    "        CREATE (doc:Document {\n",
    "            title: $title, summary: $summary, url: $url\n",
    "            })\n",
    "        ''', parameters = {'title': title, 'summary':summary, 'url': url})\n",
    "    tx.commit()"
   ]
  },
  {
   "cell_type": "code",
   "execution_count": 12,
   "metadata": {
    "tags": [
     "outputPrepend"
    ]
   },
   "outputs": [
    {
     "output_type": "stream",
     "name": "stderr",
     "text": "et LATEST driver version for 83.0.4103\nINFO:WDM:Get LATEST driver version for 83.0.4103\n[WDM] - Driver [C:\\Users\\Joel\\.wdm\\drivers\\chromedriver\\win32\\83.0.4103.39\\chromedriver.exe] found in cache\nINFO:WDM:Driver [C:\\Users\\Joel\\.wdm\\drivers\\chromedriver\\win32\\83.0.4103.39\\chromedriver.exe] found in cache\n \n[WDM] - Current google-chrome version is 83.0.4103\nINFO:WDM:Current google-chrome version is 83.0.4103\n[WDM] - Get LATEST driver version for 83.0.4103\nINFO:WDM:Get LATEST driver version for 83.0.4103\n[WDM] - Driver [C:\\Users\\Joel\\.wdm\\drivers\\chromedriver\\win32\\83.0.4103.39\\chromedriver.exe] found in cache\nINFO:WDM:Driver [C:\\Users\\Joel\\.wdm\\drivers\\chromedriver\\win32\\83.0.4103.39\\chromedriver.exe] found in cache\n \n[WDM] - Current google-chrome version is 83.0.4103\nINFO:WDM:Current google-chrome version is 83.0.4103\n[WDM] - Get LATEST driver version for 83.0.4103\nINFO:WDM:Get LATEST driver version for 83.0.4103\n[WDM] - Driver [C:\\Users\\Joel\\.wdm\\drivers\\chromedriver\\win32\\83.0.4103.39\\chromedriver.exe] found in cache\nINFO:WDM:Driver [C:\\Users\\Joel\\.wdm\\drivers\\chromedriver\\win32\\83.0.4103.39\\chromedriver.exe] found in cache\n \n[WDM] - Current google-chrome version is 83.0.4103\nINFO:WDM:Current google-chrome version is 83.0.4103\n[WDM] - Get LATEST driver version for 83.0.4103\nINFO:WDM:Get LATEST driver version for 83.0.4103\n[WDM] - Driver [C:\\Users\\Joel\\.wdm\\drivers\\chromedriver\\win32\\83.0.4103.39\\chromedriver.exe] found in cache\nINFO:WDM:Driver [C:\\Users\\Joel\\.wdm\\drivers\\chromedriver\\win32\\83.0.4103.39\\chromedriver.exe] found in cache\n \n[WDM] - Current google-chrome version is 83.0.4103\nINFO:WDM:Current google-chrome version is 83.0.4103\n[WDM] - Get LATEST driver version for 83.0.4103\nINFO:WDM:Get LATEST driver version for 83.0.4103\n[WDM] - Driver [C:\\Users\\Joel\\.wdm\\drivers\\chromedriver\\win32\\83.0.4103.39\\chromedriver.exe] found in cache\nINFO:WDM:Driver [C:\\Users\\Joel\\.wdm\\drivers\\chromedriver\\win32\\83.0.4103.39\\chromedriver.exe] found in cache\n \n[WDM] - Current google-chrome version is 83.0.4103\nINFO:WDM:Current google-chrome version is 83.0.4103\n[WDM] - Get LATEST driver version for 83.0.4103\nINFO:WDM:Get LATEST driver version for 83.0.4103\n[WDM] - Driver [C:\\Users\\Joel\\.wdm\\drivers\\chromedriver\\win32\\83.0.4103.39\\chromedriver.exe] found in cache\nINFO:WDM:Driver [C:\\Users\\Joel\\.wdm\\drivers\\chromedriver\\win32\\83.0.4103.39\\chromedriver.exe] found in cache\n \n[WDM] - Current google-chrome version is 83.0.4103\nINFO:WDM:Current google-chrome version is 83.0.4103\n[WDM] - Get LATEST driver version for 83.0.4103\nINFO:WDM:Get LATEST driver version for 83.0.4103\n[WDM] - Driver [C:\\Users\\Joel\\.wdm\\drivers\\chromedriver\\win32\\83.0.4103.39\\chromedriver.exe] found in cache\nINFO:WDM:Driver [C:\\Users\\Joel\\.wdm\\drivers\\chromedriver\\win32\\83.0.4103.39\\chromedriver.exe] found in cache\n \n[WDM] - Current google-chrome version is 83.0.4103\nINFO:WDM:Current google-chrome version is 83.0.4103\n[WDM] - Get LATEST driver version for 83.0.4103\nINFO:WDM:Get LATEST driver version for 83.0.4103\n[WDM] - Driver [C:\\Users\\Joel\\.wdm\\drivers\\chromedriver\\win32\\83.0.4103.39\\chromedriver.exe] found in cache\nINFO:WDM:Driver [C:\\Users\\Joel\\.wdm\\drivers\\chromedriver\\win32\\83.0.4103.39\\chromedriver.exe] found in cache\n \n[WDM] - Current google-chrome version is 83.0.4103\nINFO:WDM:Current google-chrome version is 83.0.4103\n[WDM] - Get LATEST driver version for 83.0.4103\nINFO:WDM:Get LATEST driver version for 83.0.4103\n[WDM] - Driver [C:\\Users\\Joel\\.wdm\\drivers\\chromedriver\\win32\\83.0.4103.39\\chromedriver.exe] found in cache\nINFO:WDM:Driver [C:\\Users\\Joel\\.wdm\\drivers\\chromedriver\\win32\\83.0.4103.39\\chromedriver.exe] found in cache\n \n[WDM] - Current google-chrome version is 83.0.4103\nINFO:WDM:Current google-chrome version is 83.0.4103\n[WDM] - Get LATEST driver version for 83.0.4103\nINFO:WDM:Get LATEST driver version for 83.0.4103\n[WDM] - Driver [C:\\Users\\Joel\\.wdm\\drivers\\chromedriver\\win32\\83.0.4103.39\\chromedriver.exe] found in cache\nINFO:WDM:Driver [C:\\Users\\Joel\\.wdm\\drivers\\chromedriver\\win32\\83.0.4103.39\\chromedriver.exe] found in cache\n \n[WDM] - Current google-chrome version is 83.0.4103\nINFO:WDM:Current google-chrome version is 83.0.4103\n[WDM] - Get LATEST driver version for 83.0.4103\nINFO:WDM:Get LATEST driver version for 83.0.4103\n[WDM] - Driver [C:\\Users\\Joel\\.wdm\\drivers\\chromedriver\\win32\\83.0.4103.39\\chromedriver.exe] found in cache\nINFO:WDM:Driver [C:\\Users\\Joel\\.wdm\\drivers\\chromedriver\\win32\\83.0.4103.39\\chromedriver.exe] found in cache\n \n[WDM] - Current google-chrome version is 83.0.4103\nINFO:WDM:Current google-chrome version is 83.0.4103\n[WDM] - Get LATEST driver version for 83.0.4103\nINFO:WDM:Get LATEST driver version for 83.0.4103\n[WDM] - Driver [C:\\Users\\Joel\\.wdm\\drivers\\chromedriver\\win32\\83.0.4103.39\\chromedriver.exe] found in cache\nINFO:WDM:Driver [C:\\Users\\Joel\\.wdm\\drivers\\chromedriver\\win32\\83.0.4103.39\\chromedriver.exe] found in cache\n \n[WDM] - Current google-chrome version is 83.0.4103\nINFO:WDM:Current google-chrome version is 83.0.4103\n[WDM] - Get LATEST driver version for 83.0.4103\nINFO:WDM:Get LATEST driver version for 83.0.4103\n \n[WDM] - Driver [C:\\Users\\Joel\\.wdm\\drivers\\chromedriver\\win32\\83.0.4103.39\\chromedriver.exe] found in cache\nINFO:WDM:Driver [C:\\Users\\Joel\\.wdm\\drivers\\chromedriver\\win32\\83.0.4103.39\\chromedriver.exe] found in cache\n[WDM] - Current google-chrome version is 83.0.4103\nINFO:WDM:Current google-chrome version is 83.0.4103\n[WDM] - Get LATEST driver version for 83.0.4103\nINFO:WDM:Get LATEST driver version for 83.0.4103\n[WDM] - Driver [C:\\Users\\Joel\\.wdm\\drivers\\chromedriver\\win32\\83.0.4103.39\\chromedriver.exe] found in cache\nINFO:WDM:Driver [C:\\Users\\Joel\\.wdm\\drivers\\chromedriver\\win32\\83.0.4103.39\\chromedriver.exe] found in cache\n \n[WDM] - Current google-chrome version is 83.0.4103\nINFO:WDM:Current google-chrome version is 83.0.4103\n[WDM] - Get LATEST driver version for 83.0.4103\nINFO:WDM:Get LATEST driver version for 83.0.4103\n[WDM] - Driver [C:\\Users\\Joel\\.wdm\\drivers\\chromedriver\\win32\\83.0.4103.39\\chromedriver.exe] found in cache\nINFO:WDM:Driver [C:\\Users\\Joel\\.wdm\\drivers\\chromedriver\\win32\\83.0.4103.39\\chromedriver.exe] found in cache\n \n[WDM] - Current google-chrome version is 83.0.4103\nINFO:WDM:Current google-chrome version is 83.0.4103\n[WDM] - Get LATEST driver version for 83.0.4103\nINFO:WDM:Get LATEST driver version for 83.0.4103\n[WDM] - Driver [C:\\Users\\Joel\\.wdm\\drivers\\chromedriver\\win32\\83.0.4103.39\\chromedriver.exe] found in cache\nINFO:WDM:Driver [C:\\Users\\Joel\\.wdm\\drivers\\chromedriver\\win32\\83.0.4103.39\\chromedriver.exe] found in cache\n \n[WDM] - Current google-chrome version is 83.0.4103\nINFO:WDM:Current google-chrome version is 83.0.4103\n[WDM] - Get LATEST driver version for 83.0.4103\nINFO:WDM:Get LATEST driver version for 83.0.4103\n \n[WDM] - Driver [C:\\Users\\Joel\\.wdm\\drivers\\chromedriver\\win32\\83.0.4103.39\\chromedriver.exe] found in cache\nINFO:WDM:Driver [C:\\Users\\Joel\\.wdm\\drivers\\chromedriver\\win32\\83.0.4103.39\\chromedriver.exe] found in cache\n[WDM] - Current google-chrome version is 83.0.4103\nINFO:WDM:Current google-chrome version is 83.0.4103\n[WDM] - Get LATEST driver version for 83.0.4103\nINFO:WDM:Get LATEST driver version for 83.0.4103\n[WDM] - Driver [C:\\Users\\Joel\\.wdm\\drivers\\chromedriver\\win32\\83.0.4103.39\\chromedriver.exe] found in cache\nINFO:WDM:Driver [C:\\Users\\Joel\\.wdm\\drivers\\chromedriver\\win32\\83.0.4103.39\\chromedriver.exe] found in cache\n \n[WDM] - Current google-chrome version is 83.0.4103\nINFO:WDM:Current google-chrome version is 83.0.4103\n[WDM] - Get LATEST driver version for 83.0.4103\nINFO:WDM:Get LATEST driver version for 83.0.4103\n[WDM] - Driver [C:\\Users\\Joel\\.wdm\\drivers\\chromedriver\\win32\\83.0.4103.39\\chromedriver.exe] found in cache\nINFO:WDM:Driver [C:\\Users\\Joel\\.wdm\\drivers\\chromedriver\\win32\\83.0.4103.39\\chromedriver.exe] found in cache\n \n[WDM] - Current google-chrome version is 83.0.4103\nINFO:WDM:Current google-chrome version is 83.0.4103\n[WDM] - Get LATEST driver version for 83.0.4103\nINFO:WDM:Get LATEST driver version for 83.0.4103\n[WDM] - Driver [C:\\Users\\Joel\\.wdm\\drivers\\chromedriver\\win32\\83.0.4103.39\\chromedriver.exe] found in cache\nINFO:WDM:Driver [C:\\Users\\Joel\\.wdm\\drivers\\chromedriver\\win32\\83.0.4103.39\\chromedriver.exe] found in cache\n \n[WDM] - Current google-chrome version is 83.0.4103\nINFO:WDM:Current google-chrome version is 83.0.4103\n[WDM] - Get LATEST driver version for 83.0.4103\nINFO:WDM:Get LATEST driver version for 83.0.4103\n[WDM] - Driver [C:\\Users\\Joel\\.wdm\\drivers\\chromedriver\\win32\\83.0.4103.39\\chromedriver.exe] found in cache\nINFO:WDM:Driver [C:\\Users\\Joel\\.wdm\\drivers\\chromedriver\\win32\\83.0.4103.39\\chromedriver.exe] found in cache\n \n[WDM] - Current google-chrome version is 83.0.4103\nINFO:WDM:Current google-chrome version is 83.0.4103\n[WDM] - Get LATEST driver version for 83.0.4103\nINFO:WDM:Get LATEST driver version for 83.0.4103\n[WDM] - Driver [C:\\Users\\Joel\\.wdm\\drivers\\chromedriver\\win32\\83.0.4103.39\\chromedriver.exe] found in cache\nINFO:WDM:Driver [C:\\Users\\Joel\\.wdm\\drivers\\chromedriver\\win32\\83.0.4103.39\\chromedriver.exe] found in cache\n \n[WDM] - Current google-chrome version is 83.0.4103\nINFO:WDM:Current google-chrome version is 83.0.4103\n[WDM] - Get LATEST driver version for 83.0.4103\nINFO:WDM:Get LATEST driver version for 83.0.4103\n[WDM] - Driver [C:\\Users\\Joel\\.wdm\\drivers\\chromedriver\\win32\\83.0.4103.39\\chromedriver.exe] found in cache\nINFO:WDM:Driver [C:\\Users\\Joel\\.wdm\\drivers\\chromedriver\\win32\\83.0.4103.39\\chromedriver.exe] found in cache\n \n[WDM] - Current google-chrome version is 83.0.4103\nINFO:WDM:Current google-chrome version is 83.0.4103\n[WDM] - Get LATEST driver version for 83.0.4103\nINFO:WDM:Get LATEST driver version for 83.0.4103\n[WDM] - Driver [C:\\Users\\Joel\\.wdm\\drivers\\chromedriver\\win32\\83.0.4103.39\\chromedriver.exe] found in cache\nINFO:WDM:Driver [C:\\Users\\Joel\\.wdm\\drivers\\chromedriver\\win32\\83.0.4103.39\\chromedriver.exe] found in cache\n \n[WDM] - Current google-chrome version is 83.0.4103\nINFO:WDM:Current google-chrome version is 83.0.4103\n[WDM] - Get LATEST driver version for 83.0.4103\nINFO:WDM:Get LATEST driver version for 83.0.4103\n[WDM] - Driver [C:\\Users\\Joel\\.wdm\\drivers\\chromedriver\\win32\\83.0.4103.39\\chromedriver.exe] found in cache\nINFO:WDM:Driver [C:\\Users\\Joel\\.wdm\\drivers\\chromedriver\\win32\\83.0.4103.39\\chromedriver.exe] found in cache\n \n[WDM] - Current google-chrome version is 83.0.4103\nINFO:WDM:Current google-chrome version is 83.0.4103\n[WDM] - Get LATEST driver version for 83.0.4103\nINFO:WDM:Get LATEST driver version for 83.0.4103\n[WDM] - Driver [C:\\Users\\Joel\\.wdm\\drivers\\chromedriver\\win32\\83.0.4103.39\\chromedriver.exe] found in cache\nINFO:WDM:Driver [C:\\Users\\Joel\\.wdm\\drivers\\chromedriver\\win32\\83.0.4103.39\\chromedriver.exe] found in cache\n \n[WDM] - Current google-chrome version is 83.0.4103\nINFO:WDM:Current google-chrome version is 83.0.4103\n[WDM] - Get LATEST driver version for 83.0.4103\nINFO:WDM:Get LATEST driver version for 83.0.4103\n[WDM] - Driver [C:\\Users\\Joel\\.wdm\\drivers\\chromedriver\\win32\\83.0.4103.39\\chromedriver.exe] found in cache\nINFO:WDM:Driver [C:\\Users\\Joel\\.wdm\\drivers\\chromedriver\\win32\\83.0.4103.39\\chromedriver.exe] found in cache\n \n[WDM] - Current google-chrome version is 83.0.4103\nINFO:WDM:Current google-chrome version is 83.0.4103\n[WDM] - Get LATEST driver version for 83.0.4103\nINFO:WDM:Get LATEST driver version for 83.0.4103\n \n[WDM] - Driver [C:\\Users\\Joel\\.wdm\\drivers\\chromedriver\\win32\\83.0.4103.39\\chromedriver.exe] found in cache\nINFO:WDM:Driver [C:\\Users\\Joel\\.wdm\\drivers\\chromedriver\\win32\\83.0.4103.39\\chromedriver.exe] found in cache\n[WDM] - Current google-chrome version is 83.0.4103\nINFO:WDM:Current google-chrome version is 83.0.4103\n[WDM] - Get LATEST driver version for 83.0.4103\nINFO:WDM:Get LATEST driver version for 83.0.4103\n[WDM] - Driver [C:\\Users\\Joel\\.wdm\\drivers\\chromedriver\\win32\\83.0.4103.39\\chromedriver.exe] found in cache\nINFO:WDM:Driver [C:\\Users\\Joel\\.wdm\\drivers\\chromedriver\\win32\\83.0.4103.39\\chromedriver.exe] found in cache\n \n[WDM] - Current google-chrome version is 83.0.4103\nINFO:WDM:Current google-chrome version is 83.0.4103\n[WDM] - Get LATEST driver version for 83.0.4103\nINFO:WDM:Get LATEST driver version for 83.0.4103\n[WDM] - Driver [C:\\Users\\Joel\\.wdm\\drivers\\chromedriver\\win32\\83.0.4103.39\\chromedriver.exe] found in cache\nINFO:WDM:Driver [C:\\Users\\Joel\\.wdm\\drivers\\chromedriver\\win32\\83.0.4103.39\\chromedriver.exe] found in cache\n \n[WDM] - Current google-chrome version is 83.0.4103\nINFO:WDM:Current google-chrome version is 83.0.4103\n[WDM] - Get LATEST driver version for 83.0.4103\nINFO:WDM:Get LATEST driver version for 83.0.4103\n[WDM] - Driver [C:\\Users\\Joel\\.wdm\\drivers\\chromedriver\\win32\\83.0.4103.39\\chromedriver.exe] found in cache\nINFO:WDM:Driver [C:\\Users\\Joel\\.wdm\\drivers\\chromedriver\\win32\\83.0.4103.39\\chromedriver.exe] found in cache\n \n[WDM] - Current google-chrome version is 83.0.4103\nINFO:WDM:Current google-chrome version is 83.0.4103\n[WDM] - Get LATEST driver version for 83.0.4103\nINFO:WDM:Get LATEST driver version for 83.0.4103\n[WDM] - Driver [C:\\Users\\Joel\\.wdm\\drivers\\chromedriver\\win32\\83.0.4103.39\\chromedriver.exe] found in cache\nINFO:WDM:Driver [C:\\Users\\Joel\\.wdm\\drivers\\chromedriver\\win32\\83.0.4103.39\\chromedriver.exe] found in cache\n \n[WDM] - Current google-chrome version is 83.0.4103\nINFO:WDM:Current google-chrome version is 83.0.4103\n[WDM] - Get LATEST driver version for 83.0.4103\nINFO:WDM:Get LATEST driver version for 83.0.4103\n[WDM] - Driver [C:\\Users\\Joel\\.wdm\\drivers\\chromedriver\\win32\\83.0.4103.39\\chromedriver.exe] found in cache\nINFO:WDM:Driver [C:\\Users\\Joel\\.wdm\\drivers\\chromedriver\\win32\\83.0.4103.39\\chromedriver.exe] found in cache\n \n[WDM] - Current google-chrome version is 83.0.4103\nINFO:WDM:Current google-chrome version is 83.0.4103\n[WDM] - Get LATEST driver version for 83.0.4103\nINFO:WDM:Get LATEST driver version for 83.0.4103\n[WDM] - Driver [C:\\Users\\Joel\\.wdm\\drivers\\chromedriver\\win32\\83.0.4103.39\\chromedriver.exe] found in cache\nINFO:WDM:Driver [C:\\Users\\Joel\\.wdm\\drivers\\chromedriver\\win32\\83.0.4103.39\\chromedriver.exe] found in cache\n \n[WDM] - Current google-chrome version is 83.0.4103\nINFO:WDM:Current google-chrome version is 83.0.4103\n[WDM] - Get LATEST driver version for 83.0.4103\nINFO:WDM:Get LATEST driver version for 83.0.4103\n[WDM] - Driver [C:\\Users\\Joel\\.wdm\\drivers\\chromedriver\\win32\\83.0.4103.39\\chromedriver.exe] found in cache\nINFO:WDM:Driver [C:\\Users\\Joel\\.wdm\\drivers\\chromedriver\\win32\\83.0.4103.39\\chromedriver.exe] found in cache\n \n[WDM] - Current google-chrome version is 83.0.4103\nINFO:WDM:Current google-chrome version is 83.0.4103\n[WDM] - Get LATEST driver version for 83.0.4103\nINFO:WDM:Get LATEST driver version for 83.0.4103\n[WDM] - Driver [C:\\Users\\Joel\\.wdm\\drivers\\chromedriver\\win32\\83.0.4103.39\\chromedriver.exe] found in cache\nINFO:WDM:Driver [C:\\Users\\Joel\\.wdm\\drivers\\chromedriver\\win32\\83.0.4103.39\\chromedriver.exe] found in cache\n \n[WDM] - Current google-chrome version is 83.0.4103\nINFO:WDM:Current google-chrome version is 83.0.4103\n[WDM] - Get LATEST driver version for 83.0.4103\nINFO:WDM:Get LATEST driver version for 83.0.4103\n[WDM] - Driver [C:\\Users\\Joel\\.wdm\\drivers\\chromedriver\\win32\\83.0.4103.39\\chromedriver.exe] found in cache\nINFO:WDM:Driver [C:\\Users\\Joel\\.wdm\\drivers\\chromedriver\\win32\\83.0.4103.39\\chromedriver.exe] found in cache\n \n[WDM] - Current google-chrome version is 83.0.4103\nINFO:WDM:Current google-chrome version is 83.0.4103\n[WDM] - Get LATEST driver version for 83.0.4103\nINFO:WDM:Get LATEST driver version for 83.0.4103\n[WDM] - Driver [C:\\Users\\Joel\\.wdm\\drivers\\chromedriver\\win32\\83.0.4103.39\\chromedriver.exe] found in cache\nINFO:WDM:Driver [C:\\Users\\Joel\\.wdm\\drivers\\chromedriver\\win32\\83.0.4103.39\\chromedriver.exe] found in cache\n \n[WDM] - Current google-chrome version is 83.0.4103\nINFO:WDM:Current google-chrome version is 83.0.4103\n[WDM] - Get LATEST driver version for 83.0.4103\nINFO:WDM:Get LATEST driver version for 83.0.4103\n[WDM] - Driver [C:\\Users\\Joel\\.wdm\\drivers\\chromedriver\\win32\\83.0.4103.39\\chromedriver.exe] found in cache\nINFO:WDM:Driver [C:\\Users\\Joel\\.wdm\\drivers\\chromedriver\\win32\\83.0.4103.39\\chromedriver.exe] found in cache\n \n[WDM] - Current google-chrome version is 83.0.4103\nINFO:WDM:Current google-chrome version is 83.0.4103\n[WDM] - Get LATEST driver version for 83.0.4103\nINFO:WDM:Get LATEST driver version for 83.0.4103\n[WDM] - Driver [C:\\Users\\Joel\\.wdm\\drivers\\chromedriver\\win32\\83.0.4103.39\\chromedriver.exe] found in cache\nINFO:WDM:Driver [C:\\Users\\Joel\\.wdm\\drivers\\chromedriver\\win32\\83.0.4103.39\\chromedriver.exe] found in cache\n \n[WDM] - Current google-chrome version is 83.0.4103\nINFO:WDM:Current google-chrome version is 83.0.4103\n[WDM] - Get LATEST driver version for 83.0.4103\nINFO:WDM:Get LATEST driver version for 83.0.4103\n[WDM] - Driver [C:\\Users\\Joel\\.wdm\\drivers\\chromedriver\\win32\\83.0.4103.39\\chromedriver.exe] found in cache\nINFO:WDM:Driver [C:\\Users\\Joel\\.wdm\\drivers\\chromedriver\\win32\\83.0.4103.39\\chromedriver.exe] found in cache\n \n[WDM] - Current google-chrome version is 83.0.4103\nINFO:WDM:Current google-chrome version is 83.0.4103\n[WDM] - Get LATEST driver version for 83.0.4103\nINFO:WDM:Get LATEST driver version for 83.0.4103\n[WDM] - Driver [C:\\Users\\Joel\\.wdm\\drivers\\chromedriver\\win32\\83.0.4103.39\\chromedriver.exe] found in cache\nINFO:WDM:Driver [C:\\Users\\Joel\\.wdm\\drivers\\chromedriver\\win32\\83.0.4103.39\\chromedriver.exe] found in cache\n \n[WDM] - Current google-chrome version is 83.0.4103\nINFO:WDM:Current google-chrome version is 83.0.4103\n[WDM] - Get LATEST driver version for 83.0.4103\nINFO:WDM:Get LATEST driver version for 83.0.4103\n[WDM] - Driver [C:\\Users\\Joel\\.wdm\\drivers\\chromedriver\\win32\\83.0.4103.39\\chromedriver.exe] found in cache\nINFO:WDM:Driver [C:\\Users\\Joel\\.wdm\\drivers\\chromedriver\\win32\\83.0.4103.39\\chromedriver.exe] found in cache\n \n[WDM] - Current google-chrome version is 83.0.4103\nINFO:WDM:Current google-chrome version is 83.0.4103\n[WDM] - Get LATEST driver version for 83.0.4103\nINFO:WDM:Get LATEST driver version for 83.0.4103\n[WDM] - Driver [C:\\Users\\Joel\\.wdm\\drivers\\chromedriver\\win32\\83.0.4103.39\\chromedriver.exe] found in cache\nINFO:WDM:Driver [C:\\Users\\Joel\\.wdm\\drivers\\chromedriver\\win32\\83.0.4103.39\\chromedriver.exe] found in cache\n \n[WDM] - Current google-chrome version is 83.0.4103\nINFO:WDM:Current google-chrome version is 83.0.4103\n[WDM] - Get LATEST driver version for 83.0.4103\nINFO:WDM:Get LATEST driver version for 83.0.4103\n[WDM] - Driver [C:\\Users\\Joel\\.wdm\\drivers\\chromedriver\\win32\\83.0.4103.39\\chromedriver.exe] found in cache\nINFO:WDM:Driver [C:\\Users\\Joel\\.wdm\\drivers\\chromedriver\\win32\\83.0.4103.39\\chromedriver.exe] found in cache\n \n[WDM] - Current google-chrome version is 83.0.4103\nINFO:WDM:Current google-chrome version is 83.0.4103\n[WDM] - Get LATEST driver version for 83.0.4103\nINFO:WDM:Get LATEST driver version for 83.0.4103\n[WDM] - Driver [C:\\Users\\Joel\\.wdm\\drivers\\chromedriver\\win32\\83.0.4103.39\\chromedriver.exe] found in cache\nINFO:WDM:Driver [C:\\Users\\Joel\\.wdm\\drivers\\chromedriver\\win32\\83.0.4103.39\\chromedriver.exe] found in cache\n \n[WDM] - Current google-chrome version is 83.0.4103\nINFO:WDM:Current google-chrome version is 83.0.4103\n[WDM] - Get LATEST driver version for 83.0.4103\nINFO:WDM:Get LATEST driver version for 83.0.4103\n[WDM] - Driver [C:\\Users\\Joel\\.wdm\\drivers\\chromedriver\\win32\\83.0.4103.39\\chromedriver.exe] found in cache\nINFO:WDM:Driver [C:\\Users\\Joel\\.wdm\\drivers\\chromedriver\\win32\\83.0.4103.39\\chromedriver.exe] found in cache\n \n[WDM] - Current google-chrome version is 83.0.4103\nINFO:WDM:Current google-chrome version is 83.0.4103\n[WDM] - Get LATEST driver version for 83.0.4103\nINFO:WDM:Get LATEST driver version for 83.0.4103\n[WDM] - Driver [C:\\Users\\Joel\\.wdm\\drivers\\chromedriver\\win32\\83.0.4103.39\\chromedriver.exe] found in cache\nINFO:WDM:Driver [C:\\Users\\Joel\\.wdm\\drivers\\chromedriver\\win32\\83.0.4103.39\\chromedriver.exe] found in cache\n \n"
    }
   ],
   "source": [
    "# Query graph for all document nodes\n",
    "docs = list(matcher.match(\"Document\").skip(1)) #Skip immigration rules index document\n",
    "\n",
    "# Loop through docs\n",
    "for doc in docs:\n",
    "    driver = webdriver.Chrome(ChromeDriverManager().install())\n",
    "    driver.get(doc['url']) # Get url from document node, open page for scraping\n",
    "\n",
    "    content = driver.page_source\n",
    "    soup = BeautifulSoup(content)\n",
    "\n",
    "    driver.close()\n",
    "\n",
    "    # Create section nodes connected to each doc\n",
    "    for section in soup.findAll(attrs={'class': 'js-subsection-title'}):\n",
    "        tx = graph.begin()\n",
    "        tx.evaluate('''\n",
    "            CREATE (sec:Section {title: $title})\n",
    "            ''', parameters = {'title': section.text})\n",
    "        tx.evaluate('''\n",
    "            MATCH (doc:Document), (sec:Section)\n",
    "            WHERE sec.title = $title AND doc.title = $doc_title AND NOT ()-[: CONTAINS]->(sec)\n",
    "            CREATE (doc)-[: CONTAINS]->(sec)\n",
    "            ''', parameters = {'title': section.text, 'doc_title': doc['title']})\n",
    "        tx.commit()"
   ]
  },
  {
   "cell_type": "code",
   "execution_count": 9,
   "metadata": {},
   "outputs": [],
   "source": [
    "\"\"\"Adding Paragraph labels to Section nodes which are also Paragraphs\"\"\"\n",
    "tx = graph.begin()\n",
    "tx.evaluate('''\n",
    "    MATCH (s:Section), (d:Document)\n",
    "    WHERE s.title =~ \"^[0-9].*\" AND NOT d.title CONTAINS 'Appendix' AND (d)-[:CONTAINS]-(s)\n",
    "    SET s:Paragraph\n",
    "    ''')\n",
    "tx.commit()"
   ]
  },
  {
   "cell_type": "code",
   "execution_count": 22,
   "metadata": {
    "tags": []
   },
   "outputs": [],
   "source": [
    "sec_pars = list(matcher.match(\"Section\").where(\"_: Paragraph\")) # match sections which are also paragraphs\n",
    "\n",
    "for sec_par in sec_pars:\n",
    "    title = sec_par['title']\n",
    "    index = title.split('.')[0]\n",
    "\n",
    "    tx = graph.begin()\n",
    "    tx.evaluate('''\n",
    "        MATCH (p:Paragraph)\n",
    "        WHERE p:Section AND p.title = $title\n",
    "        SET p.index = $index\n",
    "        ''', parameters = {'title': title, 'index': index})\n",
    "    tx.commit()"
   ]
  },
  {
   "cell_type": "code",
   "execution_count": 23,
   "metadata": {
    "tags": []
   },
   "outputs": [
    {
     "output_type": "stream",
     "name": "stderr",
     "text": "[WDM] - Current google-chrome version is 83.0.4103\nINFO:WDM:Current google-chrome version is 83.0.4103\n[WDM] - Get LATEST driver version for 83.0.4103\nINFO:WDM:Get LATEST driver version for 83.0.4103\n \n[WDM] - Get LATEST driver version for 83.0.4103\nINFO:WDM:Get LATEST driver version for 83.0.4103\n[WDM] - Trying to download new driver from http://chromedriver.storage.googleapis.com/83.0.4103.39/chromedriver_win32.zip\nINFO:WDM:Trying to download new driver from http://chromedriver.storage.googleapis.com/83.0.4103.39/chromedriver_win32.zip\n[WDM] - Driver has been saved in cache [C:\\Users\\Joel\\.wdm\\drivers\\chromedriver\\win32\\83.0.4103.39]\nINFO:WDM:Driver has been saved in cache [C:\\Users\\Joel\\.wdm\\drivers\\chromedriver\\win32\\83.0.4103.39]\n"
    }
   ],
   "source": [
    "#Open documents url for scraping\n",
    "driver = webdriver.Chrome(ChromeDriverManager().install())\n",
    "driver.get(POINT_BASED_SYSTEM_URL)\n",
    "\n",
    "content = driver.page_source\n",
    "soup = BeautifulSoup(content)\n",
    "\n",
    "driver.close()"
   ]
  },
  {
   "cell_type": "code",
   "execution_count": 27,
   "metadata": {
    "tags": []
   },
   "outputs": [],
   "source": [
    "\"\"\"Creating Paragraph Nodes for Paragraphs under the Sections of the Point Based System Part 6a Document\"\"\"\n",
    "for section in soup.findAll(attrs={'class': 'js-openable'}):\n",
    "    for tag in section.div.contents: # Loop through tags in section\n",
    "        if(tag.name == 'h3' and tag.text != 'Notes'): # If it is an h3 tag and the tag's text is not Notes\n",
    "            par_title_parts = tag.text.split('.')\n",
    "            title = par_title_parts[-1].strip()\n",
    "            index = par_title_parts[0]\n",
    "\n",
    "            tx = graph.begin()\n",
    "            tx.evaluate('''\n",
    "                CREATE (par:Paragraph {title: $title, index: $index})\n",
    "                ''', parameters = {'title': title, 'index': index})\n",
    "            tx.evaluate('''\n",
    "                MATCH (sec:Section), (par:Paragraph), (doc: Document)\n",
    "                WHERE sec.title = $sec_title AND par.index = $index AND doc.title CONTAINS 'Appendix C:' AND NOT (doc)-[:CONTAINS]->(sec)\n",
    "                CREATE (sec)-[: CONTAINS]->(par) \n",
    "                ''', parameters = {'sec_title': section.h2.text, 'index': index})\n",
    "            tx.commit()\n"
   ]
  },
  {
   "cell_type": "code",
   "execution_count": null,
   "metadata": {},
   "outputs": [],
   "source": []
  }
 ],
 "metadata": {
  "kernelspec": {
   "display_name": "Python 3",
   "language": "python",
   "name": "python3"
  },
  "language_info": {
   "codemirror_mode": {
    "name": "ipython",
    "version": 3
   },
   "file_extension": ".py",
   "mimetype": "text/x-python",
   "name": "python",
   "nbconvert_exporter": "python",
   "pygments_lexer": "ipython3",
   "version": "3.7.3-final"
  }
 },
 "nbformat": 4,
 "nbformat_minor": 2
}
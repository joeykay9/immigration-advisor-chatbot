{
 "cells": [
  {
   "cell_type": "code",
   "execution_count": 1,
   "metadata": {
    "tags": []
   },
   "outputs": [
    {
     "output_type": "stream",
     "name": "stdout",
     "text": "Name: selenium\nVersion: 3.141.0\nSummary: Python bindings for Selenium\nHome-page: https://github.com/SeleniumHQ/selenium/\nAuthor: UNKNOWN\nAuthor-email: UNKNOWN\nLicense: Apache 2.0\nLocation: c:\\users\\joel\\anaconda3\\lib\\site-packages\nRequires: urllib3\nRequired-by: \n---\nName: webdriver-manager\nVersion: 3.2.1\nSummary: Library provides the way to automatically manage drivers for different browsers\nHome-page: https://github.com/SergeyPirogov/webdriver_manager\nAuthor: Sergey Pirogov\nAuthor-email: automationremarks@gmail.com\nLicense: UNKNOWN\nLocation: c:\\users\\joel\\anaconda3\\lib\\site-packages\nRequires: configparser, requests, crayons\nRequired-by: \n---\nName: pandas\nVersion: 0.24.1\nSummary: Powerful data structures for data analysis, time series, and statistics\nHome-page: http://pandas.pydata.org\nAuthor: None\nAuthor-email: None\nLicense: BSD\nLocation: c:\\users\\joel\\anaconda3\\lib\\site-packages\nRequires: python-dateutil, pytz, numpy\nRequired-by: statsmodels, seaborn\n---\nName: beautifulsoup4\nVersion: 4.7.1\nSummary: Screen-scraping library\nHome-page: http://www.crummy.com/software/BeautifulSoup/bs4/\nAuthor: Leonard Richardson\nAuthor-email: leonardr@segfault.org\nLicense: MIT\nLocation: c:\\users\\joel\\anaconda3\\lib\\site-packages\nRequires: soupsieve\nRequired-by: conda-build\n---\nName: py2neo\nVersion: 4.3.0\nSummary: Python client library and toolkit for Neo4j\nHome-page: http://py2neo.org/\nAuthor: Nigel Small <technige@nige.tech>\nAuthor-email: py2neo@nige.tech\nLicense: Apache License, Version 2.0\nLocation: c:\\users\\joel\\anaconda3\\lib\\site-packages\nRequires: prompt-toolkit, pygments, pytz, certifi, neotime, colorama, neobolt, urllib3, click\nRequired-by: \n---\nName: python-dotenv\nVersion: 0.13.0\nSummary: Add .env support to your django/flask apps in development and deployments\nHome-page: http://github.com/theskumar/python-dotenv\nAuthor: Saurabh Kumar\nAuthor-email: me+github@saurabh-kumar.com\nLicense: UNKNOWN\nLocation: c:\\users\\joel\\anaconda3\\lib\\site-packages\nRequires: \nRequired-by: \n"
    }
   ],
   "source": [
    "# Check if project packages are installed\n",
    "! pip show selenium webdriver-manager pandas beautifulsoup4 py2neo python-dotenv"
   ]
  },
  {
   "cell_type": "code",
   "execution_count": 79,
   "metadata": {
    "tags": []
   },
   "outputs": [
    {
     "output_type": "stream",
     "name": "stdout",
     "text": "Requirement already satisfied: selenium in c:\\users\\joel\\anaconda3\\lib\\site-packages (3.141.0)\nRequirement already satisfied: webdriver-manager in c:\\users\\joel\\anaconda3\\lib\\site-packages (3.2.1)\nRequirement already satisfied: pandas in c:\\users\\joel\\anaconda3\\lib\\site-packages (0.24.1)\nRequirement already satisfied: beautifulsoup4 in c:\\users\\joel\\anaconda3\\lib\\site-packages (4.7.1)\nRequirement already satisfied: py2neo in c:\\users\\joel\\anaconda3\\lib\\site-packages (4.3.0)\nCollecting python-dotenv\n  Downloading https://files.pythonhosted.org/packages/cb/2a/07f87440444fdf2c5870a710b6770d766a1c7df9c827b0c90e807f1fb4c5/python_dotenv-0.13.0-py2.py3-none-any.whl\nRequirement already satisfied: urllib3 in c:\\users\\joel\\anaconda3\\lib\\site-packages (from selenium) (1.24.2)\nRequirement already satisfied: configparser in c:\\users\\joel\\anaconda3\\lib\\site-packages (from webdriver-manager) (5.0.0)\nRequirement already satisfied: requests in c:\\users\\joel\\anaconda3\\lib\\site-packages (from webdriver-manager) (2.22.0)\nRequirement already satisfied: crayons in c:\\users\\joel\\anaconda3\\lib\\site-packages (from webdriver-manager) (0.3.1)\nRequirement already satisfied: numpy>=1.12.0 in c:\\users\\joel\\anaconda3\\lib\\site-packages (from pandas) (1.16.4)\nRequirement already satisfied: python-dateutil>=2.5.0 in c:\\users\\joel\\anaconda3\\lib\\site-packages (from pandas) (2.8.0)\nRequirement already satisfied: pytz>=2011k in c:\\users\\joel\\anaconda3\\lib\\site-packages (from pandas) (2019.1)\nRequirement already satisfied: soupsieve>=1.2 in c:\\users\\joel\\anaconda3\\lib\\site-packages (from beautifulsoup4) (1.8)\nRequirement already satisfied: colorama in c:\\users\\joel\\anaconda3\\lib\\site-packages (from py2neo) (0.4.1)\nRequirement already satisfied: prompt-toolkit~=2.0.7 in c:\\users\\joel\\anaconda3\\lib\\site-packages (from py2neo) (2.0.9)\nRequirement already satisfied: pygments~=2.3.1 in c:\\users\\joel\\anaconda3\\lib\\site-packages (from py2neo) (2.3.1)\nRequirement already satisfied: click==7.0 in c:\\users\\joel\\anaconda3\\lib\\site-packages (from py2neo) (7.0)\nRequirement already satisfied: certifi in c:\\users\\joel\\anaconda3\\lib\\site-packages (from py2neo) (2020.4.5.1)\nRequirement already satisfied: neotime~=1.7.4 in c:\\users\\joel\\anaconda3\\lib\\site-packages (from py2neo) (1.7.4)\nRequirement already satisfied: neobolt~=1.7.12 in c:\\users\\joel\\anaconda3\\lib\\site-packages (from py2neo) (1.7.17)\nRequirement already satisfied: chardet<3.1.0,>=3.0.2 in c:\\users\\joel\\anaconda3\\lib\\site-packages (from requests->webdriver-manager) (3.0.4)\nRequirement already satisfied: idna<2.9,>=2.5 in c:\\users\\joel\\anaconda3\\lib\\site-packages (from requests->webdriver-manager) (2.8)\nRequirement already satisfied: six>=1.5 in c:\\users\\joel\\anaconda3\\lib\\site-packages (from python-dateutil>=2.5.0->pandas) (1.12.0)\nRequirement already satisfied: wcwidth in c:\\users\\joel\\anaconda3\\lib\\site-packages (from prompt-toolkit~=2.0.7->py2neo) (0.1.7)\nInstalling collected packages: python-dotenv\nSuccessfully installed python-dotenv-0.13.0\n"
    }
   ],
   "source": [
    "# install packages if not already installed\n",
    "! pip install selenium webdriver-manager pandas beautifulsoup4 py2neo python-dotenv"
   ]
  },
  {
   "cell_type": "code",
   "execution_count": 2,
   "metadata": {},
   "outputs": [],
   "source": [
    "# Import packages\n",
    "from selenium import webdriver\n",
    "from webdriver_manager.chrome import ChromeDriverManager \n",
    "from bs4 import BeautifulSoup\n",
    "import pandas as pd\n",
    "import re\n",
    "import os\n",
    "from neo4j import GraphDatabase, basic_auth\n",
    "from py2neo import Graph, Node, Relationship, NodeMatcher, RelationshipMatcher"
   ]
  },
  {
   "cell_type": "code",
   "execution_count": 3,
   "metadata": {},
   "outputs": [],
   "source": [
    "#URL constants\n",
    "GOV_UK_HOME_URL = \"https://www.gov.uk\"\n",
    "DOCUMENTS_URL = \"https://www.gov.uk/guidance/immigration-rules\"\n",
    "IMMIGRATION_RULES_INDEX_URL = \"https://www.gov.uk/guidance/immigration-rules/immigration-rules-index\"\n",
    "POINT_BASED_SYSTEM_URL = \"https://www.gov.uk/guidance/immigration-rules/immigration-rules-part-6a-the-points-based-system\""
   ]
  },
  {
   "cell_type": "code",
   "execution_count": 4,
   "metadata": {
    "tags": []
   },
   "outputs": [],
   "source": [
    "%load_ext dotenv\n",
    "%dotenv -o"
   ]
  },
  {
   "cell_type": "code",
   "execution_count": 5,
   "metadata": {},
   "outputs": [],
   "source": [
    "DB_HOST = os.getenv(\"DB_HOST\")\n",
    "DB_USER = os.getenv(\"DB_USER\")\n",
    "DB_PASS = os.getenv(\"DB_PASS\")"
   ]
  },
  {
   "cell_type": "code",
   "execution_count": 6,
   "metadata": {},
   "outputs": [],
   "source": [
    "# Establish database connection\n",
    "\n",
    "graph = Graph(DB_HOST, auth=(DB_USER, DB_PASS)) #local\n",
    "# graph = GraphDatabase.driver(uri=\"bolt+routing://\" + DB_HOST,\n",
    "#                               auth=basic_auth(user=DB_USER, password=DB_PASS),\n",
    "#                               encrypted=True)"
   ]
  },
  {
   "cell_type": "code",
   "execution_count": 7,
   "metadata": {},
   "outputs": [],
   "source": [
    "matcher = NodeMatcher(graph)"
   ]
  },
  {
   "cell_type": "code",
   "execution_count": 24,
   "metadata": {
    "tags": []
   },
   "outputs": [
    {
     "output_type": "stream",
     "name": "stderr",
     "text": "[WDM] - Current google-chrome version is 83.0.4103\n[WDM] - Get LATEST driver version for 83.0.4103\n \n[WDM] - Driver [C:\\Users\\Joel\\.wdm\\drivers\\chromedriver\\win32\\83.0.4103.39\\chromedriver.exe] found in cache\n"
    }
   ],
   "source": [
    "#Open documents url for scraping\n",
    "driver = webdriver.Chrome(ChromeDriverManager().install())\n",
    "driver.get(DOCUMENTS_URL)\n",
    "\n",
    "content = driver.page_source\n",
    "soup = BeautifulSoup(content)\n",
    "\n",
    "driver.close()"
   ]
  },
  {
   "cell_type": "code",
   "execution_count": 46,
   "metadata": {
    "tags": []
   },
   "outputs": [],
   "source": [
    "\"\"\"Creating Immigration Document Nodes\"\"\"\n",
    "docs = soup.find(attrs={'class': 'section-list'})\n",
    "for doc_list_item in docs.findAll('li'):\n",
    "    title = doc_list_item.a.find('span', attrs={\n",
    "        'class': 'subsection-title-text'}\n",
    "        ).text\n",
    "    summary = doc_list_item.a.find('span', attrs={\n",
    "        'class': 'subsection-summary'}\n",
    "        ).text\n",
    "    url = GOV_UK_HOME_URL + doc_list_item.a['href']\n",
    "    \n",
    "    tx = graph.begin()\n",
    "    tx.evaluate('''\n",
    "        CREATE (doc:Document {\n",
    "            title: $title, summary: $summary, url: $url\n",
    "            })\n",
    "        ''', parameters = {'title': title, 'summary':summary, 'url': url})\n",
    "    tx.commit()"
   ]
  },
  {
   "cell_type": "code",
   "execution_count": 47,
   "metadata": {
    "tags": []
   },
   "outputs": [
    {
     "output_type": "stream",
     "name": "stderr",
     "text": "[WDM] - Current google-chrome version is 83.0.4103\n[WDM] - Get LATEST driver version for 83.0.4103\n \n[WDM] - Get LATEST driver version for 83.0.4103\n[WDM] - Trying to download new driver from http://chromedriver.storage.googleapis.com/83.0.4103.39/chromedriver_win32.zip\n[WDM] - Driver has been saved in cache [C:\\Users\\Joel\\.wdm\\drivers\\chromedriver\\win32\\83.0.4103.39]\n[WDM] - Current google-chrome version is 83.0.4103\n[WDM] - Get LATEST driver version for 83.0.4103\n[WDM] - Driver [C:\\Users\\Joel\\.wdm\\drivers\\chromedriver\\win32\\83.0.4103.39\\chromedriver.exe] found in cache\n \n[WDM] - Current google-chrome version is 83.0.4103\n[WDM] - Get LATEST driver version for 83.0.4103\n[WDM] - Driver [C:\\Users\\Joel\\.wdm\\drivers\\chromedriver\\win32\\83.0.4103.39\\chromedriver.exe] found in cache\n \n[WDM] - Current google-chrome version is 83.0.4103\n[WDM] - Get LATEST driver version for 83.0.4103\n[WDM] - Driver [C:\\Users\\Joel\\.wdm\\drivers\\chromedriver\\win32\\83.0.4103.39\\chromedriver.exe] found in cache\n \n[WDM] - Current google-chrome version is 83.0.4103\n[WDM] - Get LATEST driver version for 83.0.4103\n[WDM] - Driver [C:\\Users\\Joel\\.wdm\\drivers\\chromedriver\\win32\\83.0.4103.39\\chromedriver.exe] found in cache\n \n[WDM] - Current google-chrome version is 83.0.4103\n[WDM] - Get LATEST driver version for 83.0.4103\n[WDM] - Driver [C:\\Users\\Joel\\.wdm\\drivers\\chromedriver\\win32\\83.0.4103.39\\chromedriver.exe] found in cache\n \n[WDM] - Current google-chrome version is 83.0.4103\n[WDM] - Get LATEST driver version for 83.0.4103\n[WDM] - Driver [C:\\Users\\Joel\\.wdm\\drivers\\chromedriver\\win32\\83.0.4103.39\\chromedriver.exe] found in cache\n \n[WDM] - Current google-chrome version is 83.0.4103\n[WDM] - Get LATEST driver version for 83.0.4103\n[WDM] - Driver [C:\\Users\\Joel\\.wdm\\drivers\\chromedriver\\win32\\83.0.4103.39\\chromedriver.exe] found in cache\n \n[WDM] - Current google-chrome version is 83.0.4103\n[WDM] - Get LATEST driver version for 83.0.4103\n[WDM] - Driver [C:\\Users\\Joel\\.wdm\\drivers\\chromedriver\\win32\\83.0.4103.39\\chromedriver.exe] found in cache\n \n[WDM] - Current google-chrome version is 83.0.4103\n[WDM] - Get LATEST driver version for 83.0.4103\n[WDM] - Driver [C:\\Users\\Joel\\.wdm\\drivers\\chromedriver\\win32\\83.0.4103.39\\chromedriver.exe] found in cache\n \n[WDM] - Current google-chrome version is 83.0.4103\n[WDM] - Get LATEST driver version for 83.0.4103\n[WDM] - Driver [C:\\Users\\Joel\\.wdm\\drivers\\chromedriver\\win32\\83.0.4103.39\\chromedriver.exe] found in cache\n \n[WDM] - Current google-chrome version is 83.0.4103\n[WDM] - Get LATEST driver version for 83.0.4103\n[WDM] - Driver [C:\\Users\\Joel\\.wdm\\drivers\\chromedriver\\win32\\83.0.4103.39\\chromedriver.exe] found in cache\n \n[WDM] - Current google-chrome version is 83.0.4103\n[WDM] - Get LATEST driver version for 83.0.4103\n[WDM] - Driver [C:\\Users\\Joel\\.wdm\\drivers\\chromedriver\\win32\\83.0.4103.39\\chromedriver.exe] found in cache\n \n[WDM] - Current google-chrome version is 83.0.4103\n[WDM] - Get LATEST driver version for 83.0.4103\n[WDM] - Driver [C:\\Users\\Joel\\.wdm\\drivers\\chromedriver\\win32\\83.0.4103.39\\chromedriver.exe] found in cache\n \n[WDM] - Current google-chrome version is 83.0.4103\n[WDM] - Get LATEST driver version for 83.0.4103\n[WDM] - Driver [C:\\Users\\Joel\\.wdm\\drivers\\chromedriver\\win32\\83.0.4103.39\\chromedriver.exe] found in cache\n \n[WDM] - Current google-chrome version is 83.0.4103\n[WDM] - Get LATEST driver version for 83.0.4103\n[WDM] - Driver [C:\\Users\\Joel\\.wdm\\drivers\\chromedriver\\win32\\83.0.4103.39\\chromedriver.exe] found in cache\n \n[WDM] - Current google-chrome version is 83.0.4103\n[WDM] - Get LATEST driver version for 83.0.4103\n[WDM] - Driver [C:\\Users\\Joel\\.wdm\\drivers\\chromedriver\\win32\\83.0.4103.39\\chromedriver.exe] found in cache\n \n[WDM] - Current google-chrome version is 83.0.4103\n[WDM] - Get LATEST driver version for 83.0.4103\n[WDM] - Driver [C:\\Users\\Joel\\.wdm\\drivers\\chromedriver\\win32\\83.0.4103.39\\chromedriver.exe] found in cache\n \n[WDM] - Current google-chrome version is 83.0.4103\n[WDM] - Get LATEST driver version for 83.0.4103\n[WDM] - Driver [C:\\Users\\Joel\\.wdm\\drivers\\chromedriver\\win32\\83.0.4103.39\\chromedriver.exe] found in cache\n \n[WDM] - Current google-chrome version is 83.0.4103\n[WDM] - Get LATEST driver version for 83.0.4103\n[WDM] - Driver [C:\\Users\\Joel\\.wdm\\drivers\\chromedriver\\win32\\83.0.4103.39\\chromedriver.exe] found in cache\n \n[WDM] - Current google-chrome version is 83.0.4103\n[WDM] - Get LATEST driver version for 83.0.4103\n[WDM] - Driver [C:\\Users\\Joel\\.wdm\\drivers\\chromedriver\\win32\\83.0.4103.39\\chromedriver.exe] found in cache\n \n[WDM] - Current google-chrome version is 83.0.4103\n[WDM] - Get LATEST driver version for 83.0.4103\n[WDM] - Driver [C:\\Users\\Joel\\.wdm\\drivers\\chromedriver\\win32\\83.0.4103.39\\chromedriver.exe] found in cache\n \n[WDM] - Current google-chrome version is 83.0.4103\n[WDM] - Get LATEST driver version for 83.0.4103\n[WDM] - Driver [C:\\Users\\Joel\\.wdm\\drivers\\chromedriver\\win32\\83.0.4103.39\\chromedriver.exe] found in cache\n \n[WDM] - Current google-chrome version is 83.0.4103\n[WDM] - Get LATEST driver version for 83.0.4103\n[WDM] - Driver [C:\\Users\\Joel\\.wdm\\drivers\\chromedriver\\win32\\83.0.4103.39\\chromedriver.exe] found in cache\n \n[WDM] - Current google-chrome version is 83.0.4103\n[WDM] - Get LATEST driver version for 83.0.4103\n[WDM] - Driver [C:\\Users\\Joel\\.wdm\\drivers\\chromedriver\\win32\\83.0.4103.39\\chromedriver.exe] found in cache\n \n[WDM] - Current google-chrome version is 83.0.4103\n[WDM] - Get LATEST driver version for 83.0.4103\n[WDM] - Driver [C:\\Users\\Joel\\.wdm\\drivers\\chromedriver\\win32\\83.0.4103.39\\chromedriver.exe] found in cache\n \n[WDM] - Current google-chrome version is 83.0.4103\n[WDM] - Get LATEST driver version for 83.0.4103\n[WDM] - Driver [C:\\Users\\Joel\\.wdm\\drivers\\chromedriver\\win32\\83.0.4103.39\\chromedriver.exe] found in cache\n \n[WDM] - Current google-chrome version is 83.0.4103\n[WDM] - Get LATEST driver version for 83.0.4103\n[WDM] - Driver [C:\\Users\\Joel\\.wdm\\drivers\\chromedriver\\win32\\83.0.4103.39\\chromedriver.exe] found in cache\n \n[WDM] - Current google-chrome version is 83.0.4103\n[WDM] - Get LATEST driver version for 83.0.4103\n[WDM] - Driver [C:\\Users\\Joel\\.wdm\\drivers\\chromedriver\\win32\\83.0.4103.39\\chromedriver.exe] found in cache\n \n[WDM] - Current google-chrome version is 83.0.4103\n[WDM] - Get LATEST driver version for 83.0.4103\n[WDM] - Driver [C:\\Users\\Joel\\.wdm\\drivers\\chromedriver\\win32\\83.0.4103.39\\chromedriver.exe] found in cache\n \n[WDM] - Current google-chrome version is 83.0.4103\n[WDM] - Get LATEST driver version for 83.0.4103\n[WDM] - Driver [C:\\Users\\Joel\\.wdm\\drivers\\chromedriver\\win32\\83.0.4103.39\\chromedriver.exe] found in cache\n \n[WDM] - Current google-chrome version is 83.0.4103\n[WDM] - Get LATEST driver version for 83.0.4103\n[WDM] - Driver [C:\\Users\\Joel\\.wdm\\drivers\\chromedriver\\win32\\83.0.4103.39\\chromedriver.exe] found in cache\n \n[WDM] - Current google-chrome version is 83.0.4103\n[WDM] - Get LATEST driver version for 83.0.4103\n[WDM] - Driver [C:\\Users\\Joel\\.wdm\\drivers\\chromedriver\\win32\\83.0.4103.39\\chromedriver.exe] found in cache\n \n[WDM] - Current google-chrome version is 83.0.4103\n[WDM] - Get LATEST driver version for 83.0.4103\n[WDM] - Driver [C:\\Users\\Joel\\.wdm\\drivers\\chromedriver\\win32\\83.0.4103.39\\chromedriver.exe] found in cache\n \n[WDM] - Current google-chrome version is 83.0.4103\n[WDM] - Get LATEST driver version for 83.0.4103\n[WDM] - Driver [C:\\Users\\Joel\\.wdm\\drivers\\chromedriver\\win32\\83.0.4103.39\\chromedriver.exe] found in cache\n \n[WDM] - Current google-chrome version is 83.0.4103\n[WDM] - Get LATEST driver version for 83.0.4103\n[WDM] - Driver [C:\\Users\\Joel\\.wdm\\drivers\\chromedriver\\win32\\83.0.4103.39\\chromedriver.exe] found in cache\n \n[WDM] - Current google-chrome version is 83.0.4103\n[WDM] - Get LATEST driver version for 83.0.4103\n[WDM] - Driver [C:\\Users\\Joel\\.wdm\\drivers\\chromedriver\\win32\\83.0.4103.39\\chromedriver.exe] found in cache\n \n[WDM] - Current google-chrome version is 83.0.4103\n[WDM] - Get LATEST driver version for 83.0.4103\n[WDM] - Driver [C:\\Users\\Joel\\.wdm\\drivers\\chromedriver\\win32\\83.0.4103.39\\chromedriver.exe] found in cache\n \n[WDM] - Current google-chrome version is 83.0.4103\n[WDM] - Get LATEST driver version for 83.0.4103\n[WDM] - Driver [C:\\Users\\Joel\\.wdm\\drivers\\chromedriver\\win32\\83.0.4103.39\\chromedriver.exe] found in cache\n \n[WDM] - Current google-chrome version is 83.0.4103\n[WDM] - Get LATEST driver version for 83.0.4103\n[WDM] - Driver [C:\\Users\\Joel\\.wdm\\drivers\\chromedriver\\win32\\83.0.4103.39\\chromedriver.exe] found in cache\n \n[WDM] - Current google-chrome version is 83.0.4103\n[WDM] - Get LATEST driver version for 83.0.4103\n[WDM] - Driver [C:\\Users\\Joel\\.wdm\\drivers\\chromedriver\\win32\\83.0.4103.39\\chromedriver.exe] found in cache\n \n[WDM] - Current google-chrome version is 83.0.4103\n[WDM] - Get LATEST driver version for 83.0.4103\n[WDM] - Driver [C:\\Users\\Joel\\.wdm\\drivers\\chromedriver\\win32\\83.0.4103.39\\chromedriver.exe] found in cache\n \n[WDM] - Current google-chrome version is 83.0.4103\n[WDM] - Get LATEST driver version for 83.0.4103\n[WDM] - Driver [C:\\Users\\Joel\\.wdm\\drivers\\chromedriver\\win32\\83.0.4103.39\\chromedriver.exe] found in cache\n \n[WDM] - Current google-chrome version is 83.0.4103\n[WDM] - Get LATEST driver version for 83.0.4103\n[WDM] - Driver [C:\\Users\\Joel\\.wdm\\drivers\\chromedriver\\win32\\83.0.4103.39\\chromedriver.exe] found in cache\n \n[WDM] - Current google-chrome version is 83.0.4103\n[WDM] - Get LATEST driver version for 83.0.4103\n[WDM] - Driver [C:\\Users\\Joel\\.wdm\\drivers\\chromedriver\\win32\\83.0.4103.39\\chromedriver.exe] found in cache\n \n[WDM] - Current google-chrome version is 83.0.4103\n[WDM] - Get LATEST driver version for 83.0.4103\n[WDM] - Driver [C:\\Users\\Joel\\.wdm\\drivers\\chromedriver\\win32\\83.0.4103.39\\chromedriver.exe] found in cache\n \n[WDM] - Current google-chrome version is 83.0.4103\n[WDM] - Get LATEST driver version for 83.0.4103\n[WDM] - Driver [C:\\Users\\Joel\\.wdm\\drivers\\chromedriver\\win32\\83.0.4103.39\\chromedriver.exe] found in cache\n \n[WDM] - Current google-chrome version is 83.0.4103\n[WDM] - Get LATEST driver version for 83.0.4103\n[WDM] - Driver [C:\\Users\\Joel\\.wdm\\drivers\\chromedriver\\win32\\83.0.4103.39\\chromedriver.exe] found in cache\n \n[WDM] - Current google-chrome version is 83.0.4103\n[WDM] - Get LATEST driver version for 83.0.4103\n[WDM] - Driver [C:\\Users\\Joel\\.wdm\\drivers\\chromedriver\\win32\\83.0.4103.39\\chromedriver.exe] found in cache\n \n[WDM] - Current google-chrome version is 83.0.4103\n[WDM] - Get LATEST driver version for 83.0.4103\n \n[WDM] - Driver [C:\\Users\\Joel\\.wdm\\drivers\\chromedriver\\win32\\83.0.4103.39\\chromedriver.exe] found in cache\n"
    }
   ],
   "source": [
    "\"\"\"Creating Section nodes related to all document nodes\"\"\"\n",
    "\n",
    "# Query graph for all document nodes\n",
    "docs = list(matcher.match(\"Document\").skip(1)) #Skip immigration rules index document\n",
    "\n",
    "# Loop through docs\n",
    "for doc in docs:\n",
    "    driver = webdriver.Chrome(ChromeDriverManager().install())\n",
    "    driver.get(doc['url']) # Get url from document node, open page for scraping\n",
    "\n",
    "    content = driver.page_source\n",
    "    soup = BeautifulSoup(content)\n",
    "\n",
    "    driver.close()\n",
    "\n",
    "    # Create section nodes connected to each doc\n",
    "    for section in soup.findAll(attrs={'class': 'js-subsection-title'}):\n",
    "        section_url = doc['url'] + '#' + section['id']\n",
    "\n",
    "        tx = graph.begin()\n",
    "        tx.evaluate('''\n",
    "            CREATE (sec:Section {title: $title, url: $url})\n",
    "            ''', parameters = {'title': section.text, 'url': section_url})\n",
    "        tx.evaluate('''\n",
    "            MATCH (doc:Document), (sec:Section)\n",
    "            WHERE sec.title = $title AND doc.title = $doc_title AND NOT ()-[: CONTAINS]->(sec)\n",
    "            CREATE (doc)-[: CONTAINS]->(sec)\n",
    "            ''', parameters = {'title': section.text, 'doc_title': doc['title']})\n",
    "        tx.commit()"
   ]
  },
  {
   "cell_type": "code",
   "execution_count": 48,
   "metadata": {},
   "outputs": [],
   "source": [
    "\"\"\"Adding Paragraph labels to Section nodes which are also Paragraphs\"\"\"\n",
    "tx = graph.begin()\n",
    "tx.evaluate('''\n",
    "    MATCH (s:Section), (d:Document)\n",
    "    WHERE s.title =~ \"^[0-9].*\" AND NOT d.title CONTAINS 'Appendix' AND (d)-[:CONTAINS]-(s)\n",
    "    SET s:Paragraph\n",
    "    ''')\n",
    "tx.commit()"
   ]
  },
  {
   "cell_type": "code",
   "execution_count": 49,
   "metadata": {
    "tags": []
   },
   "outputs": [],
   "source": [
    "\"\"\"Adding index property to Sections which are Paragraphs\"\"\"\n",
    "sec_pars = list(matcher.match(\"Section\").where(\"_: Paragraph\")) # match sections which are also paragraphs\n",
    "\n",
    "for sec_par in sec_pars:\n",
    "    title = sec_par['title']\n",
    "    index = title.split('.')[0]\n",
    "\n",
    "    tx = graph.begin()\n",
    "    tx.evaluate('''\n",
    "        MATCH (p:Paragraph)\n",
    "        WHERE p:Section AND p.title = $title\n",
    "        SET p.index = $index\n",
    "        ''', parameters = {'title': title, 'index': index})\n",
    "    tx.commit()"
   ]
  },
  {
   "cell_type": "code",
   "execution_count": 8,
   "metadata": {
    "tags": []
   },
   "outputs": [
    {
     "output_type": "stream",
     "name": "stderr",
     "text": "[WDM] - Current google-chrome version is 84.0.4147\n[WDM] - Get LATEST driver version for 84.0.4147\n \n[WDM] - There is no [win32] chromedriver for browser 84.0.4147 in cache\n[WDM] - Get LATEST driver version for 84.0.4147\n[WDM] - Trying to download new driver from http://chromedriver.storage.googleapis.com/84.0.4147.30/chromedriver_win32.zip\n[WDM] - Driver has been saved in cache [C:\\Users\\Joel\\.wdm\\drivers\\chromedriver\\win32\\84.0.4147.30]\n"
    }
   ],
   "source": [
    "#Open documents url for scraping\n",
    "driver = webdriver.Chrome(ChromeDriverManager().install())\n",
    "driver.get(POINT_BASED_SYSTEM_URL)\n",
    "\n",
    "content = driver.page_source\n",
    "soup = BeautifulSoup(content)\n",
    "\n",
    "driver.close()"
   ]
  },
  {
   "cell_type": "code",
   "execution_count": 51,
   "metadata": {
    "tags": []
   },
   "outputs": [],
   "source": [
    "\"\"\"Creating Paragraph Nodes for Paragraphs under the Sections of the Point Based System Part 6a Document\"\"\"\n",
    "for section in soup.findAll(attrs={'class': 'js-openable'}):\n",
    "    for tag in section.div.contents: # Loop through tags in section\n",
    "        if(tag.name == 'h3' and tag.text != 'Notes'): # If it is an h3 tag and the tag's text is not Notes\n",
    "            par_title_parts = tag.text.split('.')\n",
    "            title = par_title_parts[-1].strip()\n",
    "            index = par_title_parts[0]\n",
    "\n",
    "            tx = graph.begin()\n",
    "            tx.evaluate('''\n",
    "                CREATE (par:Paragraph {title: $title, index: $index})\n",
    "                ''', parameters = {'title': title, 'index': index})\n",
    "            tx.evaluate('''\n",
    "                MATCH (sec:Section), (par:Paragraph), (doc: Document)\n",
    "                WHERE sec.title = $sec_title AND par.index = $index AND doc.title CONTAINS 'Appendix C:' AND NOT (doc)-[:CONTAINS]->(sec)\n",
    "                CREATE (sec)-[: CONTAINS]->(par) \n",
    "                ''', parameters = {'sec_title': section.h2.text, 'index': index})\n",
    "            tx.commit()\n"
   ]
  },
  {
   "cell_type": "code",
   "execution_count": 11,
   "metadata": {
    "tags": []
   },
   "outputs": [],
   "source": [
    "\"\"\"Extracting the contents/texts of each paragraph into a list for further processing\"\"\"\n",
    "for section in soup.findAll(attrs={'class': 'js-openable'}):\n",
    "    if section.h2.text == 'Tier 4 (General) Student':\n",
    "        section_tags = section.div.findAll({'p', 'ol', 'h3'}, recursive=False)\n",
    "        break"
   ]
  },
  {
   "cell_type": "code",
   "execution_count": 40,
   "metadata": {
    "tags": []
   },
   "outputs": [
    {
     "output_type": "execute_result",
     "data": {
      "text/plain": "'p'"
     },
     "metadata": {},
     "execution_count": 40
    }
   ],
   "source": [
    "section_tags[1].name"
   ]
  },
  {
   "cell_type": "code",
   "execution_count": 54,
   "metadata": {
    "tags": []
   },
   "outputs": [],
   "source": [
    "\"\"\"Adding rules to paragraphs\"\"\"\n",
    "for i, tag in enumerate(section_tags):\n",
    "    if tag.name == 'h3' and tag.text != 'Notes':\n",
    "        par_index = tag.text.split('.')[0]\n",
    "\n",
    "    elif tag.name != 'h3':\n",
    "        if tag.name == 'ol':\n",
    "            # TODO: Explore if previous tag is p tag and text contains requirements, list items become sub-rules of that rule\n",
    "            for item in tag.findAll('li', recursive=False):\n",
    "                \n",
    "                if item.text.split()[0][0] == '(':  #if rule starts with ()\n",
    "                    sub_rule_index = item.text.split()[0]\n",
    "                    sub_rule = item.text\n",
    "                else:\n",
    "                    sub_rule += item.text\n",
    "\n",
    "                tx = graph.begin()\n",
    "                tx.evaluate('''\n",
    "                    CREATE (subrule:SubRule {desc: $desc, index: $index})\n",
    "                    ''', parameters = {'desc': sub_rule, 'index': sub_rule_index})\n",
    "                tx.evaluate('''\n",
    "                    MATCH (par:Paragraph), (rule:Rule), (subrule:SubRule)\n",
    "                    WHERE par.index = $index AND rule.desc = $desc AND (par)-[:CONTAINS]->(rule) AND NOT ()-[:CONTAINS]->(subrule)\n",
    "                    CREATE (rule)-[:CONTAINS]->(subrule)\n",
    "                    ''', parameters = {'index': par_index, 'desc': 'Requirements:'})\n",
    "                tx.commit()\n",
    "\n",
    "        elif tag.name == 'p' and section_tags[i-1].name == 'ol':\n",
    "\n",
    "            sub_rule = tag.text\n",
    "\n",
    "            tx = graph.begin()\n",
    "            tx.evaluate('''\n",
    "                CREATE (subrule:SubRule {desc: $desc})\n",
    "                ''', parameters = {'desc': sub_rule})\n",
    "            tx.evaluate('''\n",
    "                MATCH (par:Paragraph), (rule:Rule), (subrule:SubRule)\n",
    "                WHERE par.index = $index AND rule.desc = $desc AND (par)-[:CONTAINS]->(rule) AND NOT ()-[:CONTAINS]->(subrule)\n",
    "                CREATE (rule)-[:CONTAINS]->(subrule)\n",
    "                ''', parameters = {'index': par_index, 'desc': 'Requirements:'})\n",
    "            tx.commit()\n",
    "\n",
    "        else: # Handles rules in p tags\n",
    "            rule = tag.text\n",
    "        \n",
    "            tx = graph.begin()\n",
    "            tx.evaluate('''\n",
    "                CREATE (rule:Rule {desc: $desc})\n",
    "                ''', parameters = {'desc': rule})\n",
    "            tx.evaluate('''\n",
    "                MATCH (par:Paragraph), (rule:Rule)\n",
    "                WHERE par.index = $index and rule.desc = $desc AND NOT ()-[:CONTAINS]->(rule)\n",
    "                CREATE (par)-[:CONTAINS]->(rule)\n",
    "                ''', parameters = {'index': par_index, 'desc': rule})\n",
    "            tx.commit()"
   ]
  },
  {
   "cell_type": "code",
   "execution_count": 34,
   "metadata": {
    "tags": []
   },
   "outputs": [],
   "source": [
    "rules = list(matcher.match('Rule'))"
   ]
  },
  {
   "cell_type": "code",
   "execution_count": null,
   "metadata": {},
   "outputs": [],
   "source": []
  }
 ],
 "metadata": {
  "kernelspec": {
   "display_name": "Python 3.7.3 64-bit ('base': conda)",
   "language": "python",
   "name": "python_defaultSpec_1595413447488"
  },
  "language_info": {
   "codemirror_mode": {
    "name": "ipython",
    "version": 3
   },
   "file_extension": ".py",
   "mimetype": "text/x-python",
   "name": "python",
   "nbconvert_exporter": "python",
   "pygments_lexer": "ipython3",
   "version": "3.7.3-final"
  }
 },
 "nbformat": 4,
 "nbformat_minor": 2
}
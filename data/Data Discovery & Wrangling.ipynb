{
 "cells": [
  {
   "cell_type": "code",
   "execution_count": 1,
   "metadata": {
    "tags": []
   },
   "outputs": [
    {
     "output_type": "stream",
     "name": "stdout",
     "text": "Name: selenium\nVersion: 3.141.0\nSummary: Python bindings for Selenium\nHome-page: https://github.com/SeleniumHQ/selenium/\nAuthor: UNKNOWN\nAuthor-email: UNKNOWN\nLicense: Apache 2.0\nLocation: c:\\users\\joel\\anaconda3\\lib\\site-packages\nRequires: urllib3\nRequired-by: \n---\nName: webdriver-manager\nVersion: 3.2.1\nSummary: Library provides the way to automatically manage drivers for different browsers\nHome-page: https://github.com/SergeyPirogov/webdriver_manager\nAuthor: Sergey Pirogov\nAuthor-email: automationremarks@gmail.com\nLicense: UNKNOWN\nLocation: c:\\users\\joel\\anaconda3\\lib\\site-packages\nRequires: configparser, requests, crayons\nRequired-by: \n---\nName: pandas\nVersion: 0.24.1\nSummary: Powerful data structures for data analysis, time series, and statistics\nHome-page: http://pandas.pydata.org\nAuthor: None\nAuthor-email: None\nLicense: BSD\nLocation: c:\\users\\joel\\anaconda3\\lib\\site-packages\nRequires: pytz, numpy, python-dateutil\nRequired-by: statsmodels, seaborn\n---\nName: beautifulsoup4\nVersion: 4.7.1\nSummary: Screen-scraping library\nHome-page: http://www.crummy.com/software/BeautifulSoup/bs4/\nAuthor: Leonard Richardson\nAuthor-email: leonardr@segfault.org\nLicense: MIT\nLocation: c:\\users\\joel\\anaconda3\\lib\\site-packages\nRequires: soupsieve\nRequired-by: conda-build\n---\nName: py2neo\nVersion: 4.3.0\nSummary: Python client library and toolkit for Neo4j\nHome-page: http://py2neo.org/\nAuthor: Nigel Small <technige@nige.tech>\nAuthor-email: py2neo@nige.tech\nLicense: Apache License, Version 2.0\nLocation: c:\\users\\joel\\anaconda3\\lib\\site-packages\nRequires: neotime, click, colorama, urllib3, neobolt, prompt-toolkit, certifi, pytz, pygments\nRequired-by: \n---\nName: python-dotenv\nVersion: 0.13.0\nSummary: Add .env support to your django/flask apps in development and deployments\nHome-page: http://github.com/theskumar/python-dotenv\nAuthor: Saurabh Kumar\nAuthor-email: me+github@saurabh-kumar.com\nLicense: UNKNOWN\nLocation: c:\\users\\joel\\anaconda3\\lib\\site-packages\nRequires: \nRequired-by: \n"
    }
   ],
   "source": [
    "# Check if project packages are installed\n",
    "! pip show selenium webdriver-manager pandas beautifulsoup4 py2neo python-dotenv"
   ]
  },
  {
   "cell_type": "code",
   "execution_count": 79,
   "metadata": {
    "tags": []
   },
   "outputs": [
    {
     "output_type": "stream",
     "name": "stdout",
     "text": "Requirement already satisfied: selenium in c:\\users\\joel\\anaconda3\\lib\\site-packages (3.141.0)\nRequirement already satisfied: webdriver-manager in c:\\users\\joel\\anaconda3\\lib\\site-packages (3.2.1)\nRequirement already satisfied: pandas in c:\\users\\joel\\anaconda3\\lib\\site-packages (0.24.1)\nRequirement already satisfied: beautifulsoup4 in c:\\users\\joel\\anaconda3\\lib\\site-packages (4.7.1)\nRequirement already satisfied: py2neo in c:\\users\\joel\\anaconda3\\lib\\site-packages (4.3.0)\nCollecting python-dotenv\n  Downloading https://files.pythonhosted.org/packages/cb/2a/07f87440444fdf2c5870a710b6770d766a1c7df9c827b0c90e807f1fb4c5/python_dotenv-0.13.0-py2.py3-none-any.whl\nRequirement already satisfied: urllib3 in c:\\users\\joel\\anaconda3\\lib\\site-packages (from selenium) (1.24.2)\nRequirement already satisfied: configparser in c:\\users\\joel\\anaconda3\\lib\\site-packages (from webdriver-manager) (5.0.0)\nRequirement already satisfied: requests in c:\\users\\joel\\anaconda3\\lib\\site-packages (from webdriver-manager) (2.22.0)\nRequirement already satisfied: crayons in c:\\users\\joel\\anaconda3\\lib\\site-packages (from webdriver-manager) (0.3.1)\nRequirement already satisfied: numpy>=1.12.0 in c:\\users\\joel\\anaconda3\\lib\\site-packages (from pandas) (1.16.4)\nRequirement already satisfied: python-dateutil>=2.5.0 in c:\\users\\joel\\anaconda3\\lib\\site-packages (from pandas) (2.8.0)\nRequirement already satisfied: pytz>=2011k in c:\\users\\joel\\anaconda3\\lib\\site-packages (from pandas) (2019.1)\nRequirement already satisfied: soupsieve>=1.2 in c:\\users\\joel\\anaconda3\\lib\\site-packages (from beautifulsoup4) (1.8)\nRequirement already satisfied: colorama in c:\\users\\joel\\anaconda3\\lib\\site-packages (from py2neo) (0.4.1)\nRequirement already satisfied: prompt-toolkit~=2.0.7 in c:\\users\\joel\\anaconda3\\lib\\site-packages (from py2neo) (2.0.9)\nRequirement already satisfied: pygments~=2.3.1 in c:\\users\\joel\\anaconda3\\lib\\site-packages (from py2neo) (2.3.1)\nRequirement already satisfied: click==7.0 in c:\\users\\joel\\anaconda3\\lib\\site-packages (from py2neo) (7.0)\nRequirement already satisfied: certifi in c:\\users\\joel\\anaconda3\\lib\\site-packages (from py2neo) (2020.4.5.1)\nRequirement already satisfied: neotime~=1.7.4 in c:\\users\\joel\\anaconda3\\lib\\site-packages (from py2neo) (1.7.4)\nRequirement already satisfied: neobolt~=1.7.12 in c:\\users\\joel\\anaconda3\\lib\\site-packages (from py2neo) (1.7.17)\nRequirement already satisfied: chardet<3.1.0,>=3.0.2 in c:\\users\\joel\\anaconda3\\lib\\site-packages (from requests->webdriver-manager) (3.0.4)\nRequirement already satisfied: idna<2.9,>=2.5 in c:\\users\\joel\\anaconda3\\lib\\site-packages (from requests->webdriver-manager) (2.8)\nRequirement already satisfied: six>=1.5 in c:\\users\\joel\\anaconda3\\lib\\site-packages (from python-dateutil>=2.5.0->pandas) (1.12.0)\nRequirement already satisfied: wcwidth in c:\\users\\joel\\anaconda3\\lib\\site-packages (from prompt-toolkit~=2.0.7->py2neo) (0.1.7)\nInstalling collected packages: python-dotenv\nSuccessfully installed python-dotenv-0.13.0\n"
    }
   ],
   "source": [
    "# install packages if not already installed\n",
    "! pip install selenium webdriver-manager pandas beautifulsoup4 py2neo python-dotenv"
   ]
  },
  {
   "cell_type": "code",
   "execution_count": 27,
   "metadata": {},
   "outputs": [],
   "source": [
    "# Import packages\n",
    "from selenium import webdriver\n",
    "from webdriver_manager.chrome import ChromeDriverManager \n",
    "from bs4 import BeautifulSoup\n",
    "import pandas as pd\n",
    "import re\n",
    "import os\n",
    "from neo4j import GraphDatabase, basic_auth\n",
    "from py2neo import Graph, Node, Relationship, NodeMatcher, RelationshipMatcher"
   ]
  },
  {
   "cell_type": "code",
   "execution_count": 3,
   "metadata": {},
   "outputs": [],
   "source": [
    "#URL constants\n",
    "GOV_UK_HOME_URL = \"https://www.gov.uk\"\n",
    "DOCUMENTS_URL = \"https://www.gov.uk/guidance/immigration-rules\"\n",
    "IMMIGRATION_RULES_INDEX_URL = \"https://www.gov.uk/guidance/immigration-rules/immigration-rules-index\"\n",
    "POINT_BASED_SYSTEM_URL = \"https://www.gov.uk/guidance/immigration-rules/immigration-rules-part-6a-the-points-based-system\""
   ]
  },
  {
   "cell_type": "code",
   "execution_count": 42,
   "metadata": {
    "tags": []
   },
   "outputs": [],
   "source": [
    "%reload_ext dotenv\n",
    "%dotenv -o"
   ]
  },
  {
   "cell_type": "code",
   "execution_count": 43,
   "metadata": {},
   "outputs": [],
   "source": [
    "DB_HOST = os.getenv(\"DB_HOST\")\n",
    "DB_USER = os.getenv(\"DB_USER\")\n",
    "DB_PASS = os.getenv(\"DB_PASS\")"
   ]
  },
  {
   "cell_type": "code",
   "execution_count": 44,
   "metadata": {},
   "outputs": [],
   "source": [
    "# Establish database connection\n",
    "\n",
    "graph = Graph(DB_HOST, auth=(DB_USER, DB_PASS)) #local\n",
    "# graph = GraphDatabase.driver(uri=\"bolt+routing://\" + DB_HOST,\n",
    "#                               auth=basic_auth(user=DB_USER, password=DB_PASS),\n",
    "#                               encrypted=True)"
   ]
  },
  {
   "cell_type": "code",
   "execution_count": 45,
   "metadata": {},
   "outputs": [],
   "source": [
    "matcher = NodeMatcher(graph)"
   ]
  },
  {
   "cell_type": "code",
   "execution_count": 24,
   "metadata": {
    "tags": []
   },
   "outputs": [
    {
     "output_type": "stream",
     "name": "stderr",
     "text": "[WDM] - Current google-chrome version is 83.0.4103\n[WDM] - Get LATEST driver version for 83.0.4103\n \n[WDM] - Driver [C:\\Users\\Joel\\.wdm\\drivers\\chromedriver\\win32\\83.0.4103.39\\chromedriver.exe] found in cache\n"
    }
   ],
   "source": [
    "#Open documents url for scraping\n",
    "driver = webdriver.Chrome(ChromeDriverManager().install())\n",
    "driver.get(DOCUMENTS_URL)\n",
    "\n",
    "content = driver.page_source\n",
    "soup = BeautifulSoup(content)\n",
    "\n",
    "driver.close()"
   ]
  },
  {
   "cell_type": "code",
   "execution_count": 46,
   "metadata": {
    "tags": []
   },
   "outputs": [],
   "source": [
    "\"\"\"Creating Immigration Document Nodes\"\"\"\n",
    "docs = soup.find(attrs={'class': 'section-list'})\n",
    "for doc_list_item in docs.findAll('li'):\n",
    "    title = doc_list_item.a.find('span', attrs={\n",
    "        'class': 'subsection-title-text'}\n",
    "        ).text\n",
    "    summary = doc_list_item.a.find('span', attrs={\n",
    "        'class': 'subsection-summary'}\n",
    "        ).text\n",
    "    url = GOV_UK_HOME_URL + doc_list_item.a['href']\n",
    "    \n",
    "    tx = graph.begin()\n",
    "    tx.evaluate('''\n",
    "        CREATE (doc:Document {\n",
    "            title: $title, summary: $summary, url: $url\n",
    "            })\n",
    "        ''', parameters = {'title': title, 'summary':summary, 'url': url})\n",
    "    tx.commit()"
   ]
  },
  {
   "cell_type": "code",
   "execution_count": 47,
   "metadata": {
    "tags": []
   },
   "outputs": [
    {
     "output_type": "stream",
     "name": "stderr",
     "text": "[WDM] - Current google-chrome version is 83.0.4103\n[WDM] - Get LATEST driver version for 83.0.4103\n \n[WDM] - Get LATEST driver version for 83.0.4103\n[WDM] - Trying to download new driver from http://chromedriver.storage.googleapis.com/83.0.4103.39/chromedriver_win32.zip\n[WDM] - Driver has been saved in cache [C:\\Users\\Joel\\.wdm\\drivers\\chromedriver\\win32\\83.0.4103.39]\n[WDM] - Current google-chrome version is 83.0.4103\n[WDM] - Get LATEST driver version for 83.0.4103\n[WDM] - Driver [C:\\Users\\Joel\\.wdm\\drivers\\chromedriver\\win32\\83.0.4103.39\\chromedriver.exe] found in cache\n \n[WDM] - Current google-chrome version is 83.0.4103\n[WDM] - Get LATEST driver version for 83.0.4103\n[WDM] - Driver [C:\\Users\\Joel\\.wdm\\drivers\\chromedriver\\win32\\83.0.4103.39\\chromedriver.exe] found in cache\n \n[WDM] - Current google-chrome version is 83.0.4103\n[WDM] - Get LATEST driver version for 83.0.4103\n[WDM] - Driver [C:\\Users\\Joel\\.wdm\\drivers\\chromedriver\\win32\\83.0.4103.39\\chromedriver.exe] found in cache\n \n[WDM] - Current google-chrome version is 83.0.4103\n[WDM] - Get LATEST driver version for 83.0.4103\n[WDM] - Driver [C:\\Users\\Joel\\.wdm\\drivers\\chromedriver\\win32\\83.0.4103.39\\chromedriver.exe] found in cache\n \n[WDM] - Current google-chrome version is 83.0.4103\n[WDM] - Get LATEST driver version for 83.0.4103\n[WDM] - Driver [C:\\Users\\Joel\\.wdm\\drivers\\chromedriver\\win32\\83.0.4103.39\\chromedriver.exe] found in cache\n \n[WDM] - Current google-chrome version is 83.0.4103\n[WDM] - Get LATEST driver version for 83.0.4103\n[WDM] - Driver [C:\\Users\\Joel\\.wdm\\drivers\\chromedriver\\win32\\83.0.4103.39\\chromedriver.exe] found in cache\n \n[WDM] - Current google-chrome version is 83.0.4103\n[WDM] - Get LATEST driver version for 83.0.4103\n[WDM] - Driver [C:\\Users\\Joel\\.wdm\\drivers\\chromedriver\\win32\\83.0.4103.39\\chromedriver.exe] found in cache\n \n[WDM] - Current google-chrome version is 83.0.4103\n[WDM] - Get LATEST driver version for 83.0.4103\n[WDM] - Driver [C:\\Users\\Joel\\.wdm\\drivers\\chromedriver\\win32\\83.0.4103.39\\chromedriver.exe] found in cache\n \n[WDM] - Current google-chrome version is 83.0.4103\n[WDM] - Get LATEST driver version for 83.0.4103\n[WDM] - Driver [C:\\Users\\Joel\\.wdm\\drivers\\chromedriver\\win32\\83.0.4103.39\\chromedriver.exe] found in cache\n \n[WDM] - Current google-chrome version is 83.0.4103\n[WDM] - Get LATEST driver version for 83.0.4103\n[WDM] - Driver [C:\\Users\\Joel\\.wdm\\drivers\\chromedriver\\win32\\83.0.4103.39\\chromedriver.exe] found in cache\n \n[WDM] - Current google-chrome version is 83.0.4103\n[WDM] - Get LATEST driver version for 83.0.4103\n[WDM] - Driver [C:\\Users\\Joel\\.wdm\\drivers\\chromedriver\\win32\\83.0.4103.39\\chromedriver.exe] found in cache\n \n[WDM] - Current google-chrome version is 83.0.4103\n[WDM] - Get LATEST driver version for 83.0.4103\n[WDM] - Driver [C:\\Users\\Joel\\.wdm\\drivers\\chromedriver\\win32\\83.0.4103.39\\chromedriver.exe] found in cache\n \n[WDM] - Current google-chrome version is 83.0.4103\n[WDM] - Get LATEST driver version for 83.0.4103\n[WDM] - Driver [C:\\Users\\Joel\\.wdm\\drivers\\chromedriver\\win32\\83.0.4103.39\\chromedriver.exe] found in cache\n \n[WDM] - Current google-chrome version is 83.0.4103\n[WDM] - Get LATEST driver version for 83.0.4103\n[WDM] - Driver [C:\\Users\\Joel\\.wdm\\drivers\\chromedriver\\win32\\83.0.4103.39\\chromedriver.exe] found in cache\n \n[WDM] - Current google-chrome version is 83.0.4103\n[WDM] - Get LATEST driver version for 83.0.4103\n[WDM] - Driver [C:\\Users\\Joel\\.wdm\\drivers\\chromedriver\\win32\\83.0.4103.39\\chromedriver.exe] found in cache\n \n[WDM] - Current google-chrome version is 83.0.4103\n[WDM] - Get LATEST driver version for 83.0.4103\n[WDM] - Driver [C:\\Users\\Joel\\.wdm\\drivers\\chromedriver\\win32\\83.0.4103.39\\chromedriver.exe] found in cache\n \n[WDM] - Current google-chrome version is 83.0.4103\n[WDM] - Get LATEST driver version for 83.0.4103\n[WDM] - Driver [C:\\Users\\Joel\\.wdm\\drivers\\chromedriver\\win32\\83.0.4103.39\\chromedriver.exe] found in cache\n \n[WDM] - Current google-chrome version is 83.0.4103\n[WDM] - Get LATEST driver version for 83.0.4103\n[WDM] - Driver [C:\\Users\\Joel\\.wdm\\drivers\\chromedriver\\win32\\83.0.4103.39\\chromedriver.exe] found in cache\n \n[WDM] - Current google-chrome version is 83.0.4103\n[WDM] - Get LATEST driver version for 83.0.4103\n[WDM] - Driver [C:\\Users\\Joel\\.wdm\\drivers\\chromedriver\\win32\\83.0.4103.39\\chromedriver.exe] found in cache\n \n[WDM] - Current google-chrome version is 83.0.4103\n[WDM] - Get LATEST driver version for 83.0.4103\n[WDM] - Driver [C:\\Users\\Joel\\.wdm\\drivers\\chromedriver\\win32\\83.0.4103.39\\chromedriver.exe] found in cache\n \n[WDM] - Current google-chrome version is 83.0.4103\n[WDM] - Get LATEST driver version for 83.0.4103\n[WDM] - Driver [C:\\Users\\Joel\\.wdm\\drivers\\chromedriver\\win32\\83.0.4103.39\\chromedriver.exe] found in cache\n \n[WDM] - Current google-chrome version is 83.0.4103\n[WDM] - Get LATEST driver version for 83.0.4103\n[WDM] - Driver [C:\\Users\\Joel\\.wdm\\drivers\\chromedriver\\win32\\83.0.4103.39\\chromedriver.exe] found in cache\n \n[WDM] - Current google-chrome version is 83.0.4103\n[WDM] - Get LATEST driver version for 83.0.4103\n[WDM] - Driver [C:\\Users\\Joel\\.wdm\\drivers\\chromedriver\\win32\\83.0.4103.39\\chromedriver.exe] found in cache\n \n[WDM] - Current google-chrome version is 83.0.4103\n[WDM] - Get LATEST driver version for 83.0.4103\n[WDM] - Driver [C:\\Users\\Joel\\.wdm\\drivers\\chromedriver\\win32\\83.0.4103.39\\chromedriver.exe] found in cache\n \n[WDM] - Current google-chrome version is 83.0.4103\n[WDM] - Get LATEST driver version for 83.0.4103\n[WDM] - Driver [C:\\Users\\Joel\\.wdm\\drivers\\chromedriver\\win32\\83.0.4103.39\\chromedriver.exe] found in cache\n \n[WDM] - Current google-chrome version is 83.0.4103\n[WDM] - Get LATEST driver version for 83.0.4103\n[WDM] - Driver [C:\\Users\\Joel\\.wdm\\drivers\\chromedriver\\win32\\83.0.4103.39\\chromedriver.exe] found in cache\n \n[WDM] - Current google-chrome version is 83.0.4103\n[WDM] - Get LATEST driver version for 83.0.4103\n[WDM] - Driver [C:\\Users\\Joel\\.wdm\\drivers\\chromedriver\\win32\\83.0.4103.39\\chromedriver.exe] found in cache\n \n[WDM] - Current google-chrome version is 83.0.4103\n[WDM] - Get LATEST driver version for 83.0.4103\n[WDM] - Driver [C:\\Users\\Joel\\.wdm\\drivers\\chromedriver\\win32\\83.0.4103.39\\chromedriver.exe] found in cache\n \n[WDM] - Current google-chrome version is 83.0.4103\n[WDM] - Get LATEST driver version for 83.0.4103\n[WDM] - Driver [C:\\Users\\Joel\\.wdm\\drivers\\chromedriver\\win32\\83.0.4103.39\\chromedriver.exe] found in cache\n \n[WDM] - Current google-chrome version is 83.0.4103\n[WDM] - Get LATEST driver version for 83.0.4103\n[WDM] - Driver [C:\\Users\\Joel\\.wdm\\drivers\\chromedriver\\win32\\83.0.4103.39\\chromedriver.exe] found in cache\n \n[WDM] - Current google-chrome version is 83.0.4103\n[WDM] - Get LATEST driver version for 83.0.4103\n[WDM] - Driver [C:\\Users\\Joel\\.wdm\\drivers\\chromedriver\\win32\\83.0.4103.39\\chromedriver.exe] found in cache\n \n[WDM] - Current google-chrome version is 83.0.4103\n[WDM] - Get LATEST driver version for 83.0.4103\n[WDM] - Driver [C:\\Users\\Joel\\.wdm\\drivers\\chromedriver\\win32\\83.0.4103.39\\chromedriver.exe] found in cache\n \n[WDM] - Current google-chrome version is 83.0.4103\n[WDM] - Get LATEST driver version for 83.0.4103\n[WDM] - Driver [C:\\Users\\Joel\\.wdm\\drivers\\chromedriver\\win32\\83.0.4103.39\\chromedriver.exe] found in cache\n \n[WDM] - Current google-chrome version is 83.0.4103\n[WDM] - Get LATEST driver version for 83.0.4103\n[WDM] - Driver [C:\\Users\\Joel\\.wdm\\drivers\\chromedriver\\win32\\83.0.4103.39\\chromedriver.exe] found in cache\n \n[WDM] - Current google-chrome version is 83.0.4103\n[WDM] - Get LATEST driver version for 83.0.4103\n[WDM] - Driver [C:\\Users\\Joel\\.wdm\\drivers\\chromedriver\\win32\\83.0.4103.39\\chromedriver.exe] found in cache\n \n[WDM] - Current google-chrome version is 83.0.4103\n[WDM] - Get LATEST driver version for 83.0.4103\n[WDM] - Driver [C:\\Users\\Joel\\.wdm\\drivers\\chromedriver\\win32\\83.0.4103.39\\chromedriver.exe] found in cache\n \n[WDM] - Current google-chrome version is 83.0.4103\n[WDM] - Get LATEST driver version for 83.0.4103\n[WDM] - Driver [C:\\Users\\Joel\\.wdm\\drivers\\chromedriver\\win32\\83.0.4103.39\\chromedriver.exe] found in cache\n \n[WDM] - Current google-chrome version is 83.0.4103\n[WDM] - Get LATEST driver version for 83.0.4103\n[WDM] - Driver [C:\\Users\\Joel\\.wdm\\drivers\\chromedriver\\win32\\83.0.4103.39\\chromedriver.exe] found in cache\n \n[WDM] - Current google-chrome version is 83.0.4103\n[WDM] - Get LATEST driver version for 83.0.4103\n[WDM] - Driver [C:\\Users\\Joel\\.wdm\\drivers\\chromedriver\\win32\\83.0.4103.39\\chromedriver.exe] found in cache\n \n[WDM] - Current google-chrome version is 83.0.4103\n[WDM] - Get LATEST driver version for 83.0.4103\n[WDM] - Driver [C:\\Users\\Joel\\.wdm\\drivers\\chromedriver\\win32\\83.0.4103.39\\chromedriver.exe] found in cache\n \n[WDM] - Current google-chrome version is 83.0.4103\n[WDM] - Get LATEST driver version for 83.0.4103\n[WDM] - Driver [C:\\Users\\Joel\\.wdm\\drivers\\chromedriver\\win32\\83.0.4103.39\\chromedriver.exe] found in cache\n \n[WDM] - Current google-chrome version is 83.0.4103\n[WDM] - Get LATEST driver version for 83.0.4103\n[WDM] - Driver [C:\\Users\\Joel\\.wdm\\drivers\\chromedriver\\win32\\83.0.4103.39\\chromedriver.exe] found in cache\n \n[WDM] - Current google-chrome version is 83.0.4103\n[WDM] - Get LATEST driver version for 83.0.4103\n[WDM] - Driver [C:\\Users\\Joel\\.wdm\\drivers\\chromedriver\\win32\\83.0.4103.39\\chromedriver.exe] found in cache\n \n[WDM] - Current google-chrome version is 83.0.4103\n[WDM] - Get LATEST driver version for 83.0.4103\n[WDM] - Driver [C:\\Users\\Joel\\.wdm\\drivers\\chromedriver\\win32\\83.0.4103.39\\chromedriver.exe] found in cache\n \n[WDM] - Current google-chrome version is 83.0.4103\n[WDM] - Get LATEST driver version for 83.0.4103\n[WDM] - Driver [C:\\Users\\Joel\\.wdm\\drivers\\chromedriver\\win32\\83.0.4103.39\\chromedriver.exe] found in cache\n \n[WDM] - Current google-chrome version is 83.0.4103\n[WDM] - Get LATEST driver version for 83.0.4103\n[WDM] - Driver [C:\\Users\\Joel\\.wdm\\drivers\\chromedriver\\win32\\83.0.4103.39\\chromedriver.exe] found in cache\n \n[WDM] - Current google-chrome version is 83.0.4103\n[WDM] - Get LATEST driver version for 83.0.4103\n[WDM] - Driver [C:\\Users\\Joel\\.wdm\\drivers\\chromedriver\\win32\\83.0.4103.39\\chromedriver.exe] found in cache\n \n[WDM] - Current google-chrome version is 83.0.4103\n[WDM] - Get LATEST driver version for 83.0.4103\n[WDM] - Driver [C:\\Users\\Joel\\.wdm\\drivers\\chromedriver\\win32\\83.0.4103.39\\chromedriver.exe] found in cache\n \n[WDM] - Current google-chrome version is 83.0.4103\n[WDM] - Get LATEST driver version for 83.0.4103\n \n[WDM] - Driver [C:\\Users\\Joel\\.wdm\\drivers\\chromedriver\\win32\\83.0.4103.39\\chromedriver.exe] found in cache\n"
    }
   ],
   "source": [
    "\"\"\"Creating Section nodes related to all document nodes\"\"\"\n",
    "\n",
    "# Query graph for all document nodes\n",
    "docs = list(matcher.match(\"Document\").skip(1)) #Skip immigration rules index document\n",
    "\n",
    "# Loop through docs\n",
    "for doc in docs:\n",
    "    driver = webdriver.Chrome(ChromeDriverManager().install())\n",
    "    driver.get(doc['url']) # Get url from document node, open page for scraping\n",
    "\n",
    "    content = driver.page_source\n",
    "    soup = BeautifulSoup(content)\n",
    "\n",
    "    driver.close()\n",
    "\n",
    "    # Create section nodes connected to each doc\n",
    "    for section in soup.findAll(attrs={'class': 'js-subsection-title'}):\n",
    "        section_url = doc['url'] + '#' + section['id']\n",
    "\n",
    "        tx = graph.begin()\n",
    "        tx.evaluate('''\n",
    "            CREATE (sec:Section {title: $title, url: $url})\n",
    "            ''', parameters = {'title': section.text, 'url': section_url})\n",
    "        tx.evaluate('''\n",
    "            MATCH (doc:Document), (sec:Section)\n",
    "            WHERE sec.title = $title AND doc.title = $doc_title AND NOT ()-[: CONTAINS]->(sec)\n",
    "            CREATE (doc)-[: CONTAINS]->(sec)\n",
    "            ''', parameters = {'title': section.text, 'doc_title': doc['title']})\n",
    "        tx.commit()"
   ]
  },
  {
   "cell_type": "code",
   "execution_count": 48,
   "metadata": {},
   "outputs": [],
   "source": [
    "\"\"\"Adding Paragraph labels to Section nodes which are also Paragraphs\"\"\"\n",
    "tx = graph.begin()\n",
    "tx.evaluate('''\n",
    "    MATCH (s:Section), (d:Document)\n",
    "    WHERE s.title =~ \"^[0-9].*\" AND NOT d.title CONTAINS 'Appendix' AND (d)-[:CONTAINS]-(s)\n",
    "    SET s:Paragraph\n",
    "    ''')\n",
    "tx.commit()"
   ]
  },
  {
   "cell_type": "code",
   "execution_count": 49,
   "metadata": {
    "tags": []
   },
   "outputs": [],
   "source": [
    "\"\"\"Adding index property to Sections which are Paragraphs\"\"\"\n",
    "sec_pars = list(matcher.match(\"Section\").where(\"_: Paragraph\")) # match sections which are also paragraphs\n",
    "\n",
    "for sec_par in sec_pars:\n",
    "    title = sec_par['title']\n",
    "    index = title.split('.')[0]\n",
    "\n",
    "    tx = graph.begin()\n",
    "    tx.evaluate('''\n",
    "        MATCH (p:Paragraph)\n",
    "        WHERE p:Section AND p.title = $title\n",
    "        SET p.index = $index\n",
    "        ''', parameters = {'title': title, 'index': index})\n",
    "    tx.commit()"
   ]
  },
  {
   "cell_type": "code",
   "execution_count": 50,
   "metadata": {
    "tags": []
   },
   "outputs": [
    {
     "output_type": "stream",
     "name": "stderr",
     "text": "[WDM] - Current google-chrome version is 83.0.4103\n[WDM] - Get LATEST driver version for 83.0.4103\n[WDM] - Driver [C:\\Users\\Joel\\.wdm\\drivers\\chromedriver\\win32\\83.0.4103.39\\chromedriver.exe] found in cache\n \n"
    }
   ],
   "source": [
    "#Open documents url for scraping\n",
    "driver = webdriver.Chrome(ChromeDriverManager().install())\n",
    "driver.get(POINT_BASED_SYSTEM_URL)\n",
    "\n",
    "content = driver.page_source\n",
    "soup = BeautifulSoup(content)\n",
    "\n",
    "driver.close()"
   ]
  },
  {
   "cell_type": "code",
   "execution_count": 51,
   "metadata": {
    "tags": []
   },
   "outputs": [],
   "source": [
    "\"\"\"Creating Paragraph Nodes for Paragraphs under the Sections of the Point Based System Part 6a Document\"\"\"\n",
    "for section in soup.findAll(attrs={'class': 'js-openable'}):\n",
    "    for tag in section.div.contents: # Loop through tags in section\n",
    "        if(tag.name == 'h3' and tag.text != 'Notes'): # If it is an h3 tag and the tag's text is not Notes\n",
    "            par_title_parts = tag.text.split('.')\n",
    "            title = par_title_parts[-1].strip()\n",
    "            index = par_title_parts[0]\n",
    "\n",
    "            tx = graph.begin()\n",
    "            tx.evaluate('''\n",
    "                CREATE (par:Paragraph {title: $title, index: $index})\n",
    "                ''', parameters = {'title': title, 'index': index})\n",
    "            tx.evaluate('''\n",
    "                MATCH (sec:Section), (par:Paragraph), (doc: Document)\n",
    "                WHERE sec.title = $sec_title AND par.index = $index AND doc.title CONTAINS 'Appendix C:' AND NOT (doc)-[:CONTAINS]->(sec)\n",
    "                CREATE (sec)-[: CONTAINS]->(par) \n",
    "                ''', parameters = {'sec_title': section.h2.text, 'index': index})\n",
    "            tx.commit()\n"
   ]
  },
  {
   "cell_type": "code",
   "execution_count": 52,
   "metadata": {
    "tags": []
   },
   "outputs": [],
   "source": [
    "\"\"\"Extracting the contents/texts of each paragraph into a list for further processing\"\"\"\n",
    "for section in soup.findAll(attrs={'class': 'js-openable'}):\n",
    "    if section.h2.text == 'Tier 4 (General) Student':\n",
    "        section_tags = section.div.findAll({'p', 'ol', 'h3'}, recursive=False)\n",
    "        break"
   ]
  },
  {
   "cell_type": "code",
   "execution_count": 53,
   "metadata": {
    "tags": []
   },
   "outputs": [
    {
     "output_type": "execute_result",
     "data": {
      "text/plain": "26"
     },
     "metadata": {},
     "execution_count": 53
    }
   ],
   "source": [
    "len(section_tags)"
   ]
  },
  {
   "cell_type": "code",
   "execution_count": 54,
   "metadata": {
    "tags": []
   },
   "outputs": [],
   "source": [
    "\"\"\"Adding rules to paragraphs\"\"\"\n",
    "for tag in section_tags:\n",
    "    if tag.name == 'h3' and tag.text != 'Notes':\n",
    "        par_index = tag.text.split('.')[0]\n",
    "\n",
    "    elif tag.name != 'h3':\n",
    "        if tag.name == 'ol':\n",
    "            # TODO: Explore if previous tag is p tag and text contains requirements, list items become sub-rules of that rule\n",
    "\n",
    "            for item in tag.findAll('li', recursive=False):\n",
    "                rule = item.text\n",
    "\n",
    "                tx = graph.begin()\n",
    "                tx.evaluate('''\n",
    "                    CREATE (rule:Rule {desc: $desc})\n",
    "                    ''', parameters = {'desc': rule})\n",
    "                tx.evaluate('''\n",
    "                    MATCH (par:Paragraph), (rule:Rule)\n",
    "                    WHERE par.index = $index and rule.desc = $desc AND NOT ()-[:CONTAINS]->(rule)\n",
    "                    CREATE (par)-[:CONTAINS]->(rule)\n",
    "                    ''', parameters = {'index': par_index, 'desc': rule})\n",
    "                tx.commit()\n",
    "\n",
    "        else:\n",
    "            rule = tag.text\n",
    "        \n",
    "            tx = graph.begin()\n",
    "            tx.evaluate('''\n",
    "                CREATE (rule:Rule {desc: $desc})\n",
    "                ''', parameters = {'desc': rule})\n",
    "            tx.evaluate('''\n",
    "                MATCH (par:Paragraph), (rule:Rule)\n",
    "                WHERE par.index = $index and rule.desc = $desc AND NOT ()-[:CONTAINS]->(rule)\n",
    "                CREATE (par)-[:CONTAINS]->(rule)\n",
    "                ''', parameters = {'index': par_index, 'desc': rule})\n",
    "            tx.commit()"
   ]
  },
  {
   "cell_type": "code",
   "execution_count": 55,
   "metadata": {
    "tags": []
   },
   "outputs": [
    {
     "output_type": "execute_result",
     "data": {
      "text/plain": "[(_386:Rule {desc: '(ga)  If the course is at degree level or above, the grant of entry clearance the applicant is seeking must not lead to the applicant having been granted more than 5 years in the UK since the age of 18 as a Tier 4 (General) Migrant, or as a Student, to study courses at degree level or above unless:\\n    \\n(i) the applicant has successfully completed a course at degree level in the UK of a minimum duration of 4 academic years, and will follow a course of study at Masters degree level sponsored by a higher education provider with a track record of compliance, and the grant of entry clearance must not lead to the applicant having spent more than 6 years in the UK since the age of 18 as a Tier 4 (General) Migrant, or as a Student, studying courses at degree level or above; or\\n(ii) the grant of entry clearance is to follow a course leading to the award of a PhD, and the applicant is sponsored by a higher education provider with a track record of compliance; or\\n(iii) the applicant is following a course of study in;\\n        \\n(1) Architecture;\\n(2) Medicine;\\n(3) Dentistry;\\n(4) Law, where the applicant has completed a course at degree level in the UK and is progressing to:\\n            \\na. a law conversion course validated by the Solicitors Regulation Authority and the Bar Standards Board in England and Wales, a Masters in Law (MLaw) in Northern Ireland, or an accelerated graduate LLB in Scotland; or\\nb. the Legal Practice Course in England and Wales, the Solicitors Course in Northern Ireland, or a Diploma in Professional Legal Practice in Scotland; or\\nc. the Bar Professional Training Course in England and Wales, or the Bar Course in Northern Ireland.\\n\\n\\n(5) Veterinary Medicine & Science; or\\n(6) Music at a music college that is a member of Conservatoires UK (CUK).\\n\\n\\n\\n'}),\n (_387:Rule {desc: 'For the avoidance of doubt, the calculation of whether the applicant has exceeded the time limit will be based on what was previously granted by way of period of leave and  level of course rather than (if different) periods and courses actually studied.'}),\n (_388:Rule {desc: '(gb) If the applicant has completed a course leading to the award of a PhD, postgraduate research qualification or a Masters degree by research in the UK, the grant of entry clearance the applicant is seeking must not lead to the applicant having spent more than 8 years in the UK since the age of 18 as a Tier 4 (General) Migrant, or as a Student.'}),\n (_389:Rule {desc: '(h) The applicant must be at least 16 years old.'}),\n (_390:Rule {desc: '(i) Where the applicant is under 18 years of age, the application must be supported by the applicant\\u2019s parents or legal guardian, or by just one parent if that parent has sole legal responsibility for the child.'}),\n (_391:Rule {desc: '(j) Where the applicant is under 18 years of age, the applicant\\u2019s parents or legal guardian, or just one parent if that parent has sole responsibility for the child, must confirm that they consent to the arrangements for the applicant\\u2019s travel to, and reception and care in, the UK.'}),\n (_392:Rule {desc: '(ja) Where the consent of the applicant\\u2019s parent(s) or legal guardian is required, evidence of how the applicant is related to the consenting party must be provided with the application. A copy of one of the following documents can be used:\\n    \\n(i) a birth certificate showing the names of the applicant\\u2019s parent(s),\\n(ii) a certificate of adoption showing the names of the applicant\\u2019s parent(s) or legal guardian, or\\n(iii) a Court document naming the applicant\\u2019s legal guardian.\\n\\n'}),\n (_393:Rule {desc: '(k) The Entry Clearance Officer must be satisfied that the applicant is a genuine student.'}),\n (_394:Rule {desc: '(a) Subject to paragraph (b), entry clearance will be granted for the duration of the course.'}),\n (_395:Rule {desc: '(b) In addition to the period of entry clearance granted in accordance with paragraph (a), entry clearance will also be granted for the periods set out in the following table. Notes to accompany the table appear below the table.'}),\n (_396:Rule {desc: '(i) If the grant of entry clearance is made less than 7 days before the intended date of travel, entry clearance will be granted with immediate effect.\\n    \\n(aii) The intended date of travel is the date recorded by the applicant either through the relevant online application process or in the specified application form for Tier 4 (General) Students, as their intended date for travel to the UK.\\n(ii) A pre-sessional course is a course which prepares a student for the student\\u2019s main course of study in the UK.\\n(iii) The additional periods of entry clearance granted further to the table above will be included for the purposes of calculating whether a migrant has exceeded the limits specified at 245ZV(g) to 245ZV(gb).\\n\\n'}),\n (_397:Rule {desc: '(c) Entry clearance will be granted subject to the following conditions:\\n    \\n(i) no recourse to public funds,\\n(ii) registration with the police, if this is required by paragraph 326 of these Rules,\\n(iii) no employment except:\\n        \\n(1) employment during term time of no more than 20 hours per week and employment (of any duration) during vacations, where the student is following a  full-time course of degree level study and is either:\\n            \\n(a) sponsored by a higher education provider with a track record of compliance; or\\n(b) sponsored by an overseas higher education institution to undertake a short-term study abroad programme in the United Kingdom.\\n\\n\\n(2) employment during term time of no more than 10 hours per week and employment (of any duration) during vacations, where the student is following a course of below degree level study and is sponsored by a higher education provider with a track record of compliance,\\n(3) DELETED\\n(4) employment as part of a course-related work placement which forms an assessed part of the applicant\\u2019s full-time course and provided that any period that the applicant spends on that placement does not exceed one third of the total length of the course undertaken in the UK except:\\n            \\n(i) where it is a United Kingdom statutory requirement that the placement should exceed one third of the total length of the course; or\\n(ii) where the placement does not exceed one half of the total length of the course undertaken in the UK and the student is following a course of degree level study and is either:\\n                \\n(a) sponsored by a higher education provider with a track record of compliance; or\\n(b) sponsored by an overseas higher education institution to undertake a short-term Study Abroad Programme in the United Kingdom.\\n\\n\\n\\n\\n(5) employment as a Student Union Sabbatical Officer, for up to 2 years, provided the post is elective and is at the institution which is the applicant\\u2019s sponsor or they must be elected to a national National Union of Students (NUS) position.\\n(6) employment as a Postgraduate Doctor or Dentist on a recognised Foundation Programme\\n(7) until such time as a decision is received from the Home Office on an application which is supported by a Certificate of Sponsorship assigned by a licensed Tier 2 Sponsor and which is made within three months of the date that the applicant\\u2019s sponsor expects them to complete, or following successful completion of, a full-time course at degree level or above at a higher education provider with a track record of compliance and while the applicant has extant leave, and any appeal or administrative review against that decision has been determined, employment with the Tier 2 Sponsor, in the role for which they assigned the Certificate of Sponsorship to the Tier 4 migrant,\\n(8) self-employment, providing the migrant has made an application for leave to remain as a Start-up migrant which:\\n            \\n(a) is supported by an endorsement from a qualifying higher education provider with a track record of compliance,\\n(b) DELETED\\n(c) is made while the applicant has extant leave,\\n\\n\\n\\n\\nuntil such time as a decision is received from the Home Office on that application and any appeal or administrative review against that decision has been determined,\\n\\n'}),\n (_398:Rule {desc: 'provided that the migrant is not self-employed or engaged in business activity other than under the conditions of (8) above, or employed as a Doctor or Dentist in Training other than under the conditions of (v) below, professional sportsperson (including a sports coach) or an entertainer, and provided that the migrant\\u2019s employment would not fill a permanent full time vacancy other than under the conditions of (7) above, or a vacancy on a recognised Foundation Programme or as a sabbatical officer; and\\n    \\n(iv) no study except:\\n        \\n(1) study at the institution that the Confirmation of Acceptance for   Studies Checking Service records as the migrant\\u2019s sponsor, unless:\\n            \\n(a) the migrant is studying at an institution which is a partner  institution of the migrant\\u2019s sponsor; or\\n(b) until such time as a decision is received from the Home Office on an application which is supported by a Confirmation of Acceptance for Studies assigned by a sponsor with Tier 4 Sponsor status and which is made while the applicant has extant leave, and any appeal or administrative review against that decision has been determined, the migrant is studying at the sponsor with Tier 4 Sponsor status that the Confirmation of Acceptance for Studies Checking Service records as having assigned such Confirmation of Acceptance for Studies to the migrant; or\\n(c) the study is supplementary study,\\n\\n\\n(2) study on the course, or courses where a pre-sessional is included, for  which the Confirmation of Acceptance for Studies was assigned, unless the student:\\n            \\n(a) has yet to complete the course for which the Confirmation of Acceptance for Studies was assigned; and\\n(b) begins studying a new course at their sponsor institution, instead of the course for which the Confirmation of Acceptance for Studies was assigned, and:\\n                \\n1. the course is taught by a higher education provider with a track record of compliance which is also the sponsor,\\n2. the course is at degree level or above,\\n3. the new course is not at a lower level than the previous course for which the applicant was granted leave as a Tier 4 (General) Student or as a Student,\\n4. the sponsor has Tier 4 Sponsor status,\\n5. if the course is at degree level, the applicant will be able to complete the new course within their extant period of leave, and\\n6. if the applicant has previously been granted leave as a Tier 4 (General) Student or as a Student, the sponsor confirms that:\\n                    \\na. the course is related to the previous course for which the applicant was granted leave as a Tier 4 (General) Student or as a Student, meaning that it is either connected to the previous course, part of the same subject group, or involves deeper specialisation, or\\nb. the previous course and the new course in combination support the applicant\\u2019s genuine career aspirations,\\n\\n\\n\\n\\n\\n\\nand\\n(2A) study on a study abroad programme at a partner institution of the applicant\\u2019s existing sponsor, which is an integral and assessed part of the course for which the Confirmation of Acceptance for Studies was assigned (regardless of when it is added to the course)\\nand\\n(3) subject to (1) and (2) above, study on a course (or period of       research) to which paragraph 245ZV(da) applies only if the migrant holds a valid Academic Technology Approval Scheme certificate issued prior to the commencement of the course (or period of research) that specifically relates to the course or (area of research) and to the institution at which the migrant undertakes such course (or period of research). Where:\\n            \\n(a) the migrant\\u2019s course (or research) completion date reported on the Confirmation of Acceptance for Studies is postponed or delayed for a period of more than three calendar months, or if there are any changes to the course contents (or the research proposal), the migrant must apply for a new Academic Technology Approval Scheme certificate within 28 calendar days; and\\n(b) the migrant begins studying a new course (or period of research) as permitted in (2) above and the new course (or area of research) is of a type specified in paragraph 245ZV(da), the migrant must obtain an Academic Technology Approval Scheme clearance certificate relating to the new course (or area of research) prior to commencing it.\\n\\n\\n\\n\\n(v) no employment as a Doctor or Dentist in Training unless:\\n        \\n(1) the course that the migrant is being sponsored to do (as recorded by the Confirmation of Acceptance for Studies Checking Service) is a recognised Foundation Programme, or\\n(2) the migrant has made an application as a Tier 4 (General) Student which is supported by a Confirmation of Acceptance for Studies assigned by a sponsor with Tier 4 Sponsor status to sponsor the applicant to do a recognised Foundation Programme, and this study satisfies the requirements of (iv)(2) above, or\\n(3) the migrant has made an application as a Tier 2 (General) Migrant which is supported by a Certificate of Sponsorship assigned by a licensed Tier 2 Sponsor to sponsor the applicant to work as a Doctor or Dentist in Training, and this employment satisfies the conditions of (iii)(7) above.\\n\\n\\n(vi) no study at state funded schools \\u2013 except for voluntary grammar schools with boarding in Northern Ireland \\u2013 and academies, except where the migrant has been granted entry clearance to study at an institution which holds a sponsor licence under Tier 4 of the Points Based System which becomes an Academy or a state funded school during the migrant\\u2019s period of study, in which case the migrant may complete the course for which the Confirmation of Acceptance for Studies was assigned, but may not commence a new course at that institution.\\n\\n'}),\n (_399:Rule {desc: 'To qualify for leave to remain as a Tier 4 (General) Student under this rule, an applicant must meet the requirements listed below. If the applicant meets these requirements, leave to remain will be granted. If the applicant does not meet these requirements, the applicant will be refused.'}),\n (_415:Rule {desc: 'All migrants arriving in the UK and wishing to enter as a Tier 4 (General) Student must have a valid entry clearance for entry under this route. If they do not have a valid entry clearance, entry will be refused.'}),\n (_416:Rule {desc: 'To qualify for entry clearance as a Tier 4 (General) Student, an applicant must meet the requirements listed below. If the applicant meets these requirements, entry clearance will be granted. If the applicant does not meet these requirements, the application will be refused.'}),\n (_417:Rule {desc: 'Requirements:'}),\n (_418:Rule {desc: '(a) The applicant must not fall for refusal under the general grounds for refusal.'}),\n (_419:Rule {desc: '(b) The applicant must have a minimum of 30 points under paragraphs 113 to 120 of Appendix A.'}),\n (_477:Rule {desc: 'This route is for migrants aged 16 or over who wish to study in the UK at an institution that is not a state funded school \\u2013 except for voluntary grammar schools with boarding in Northern Ireland \\u2013 and academies.'}),\n (_480:Rule {desc: '(c) The applicant must have a minimum of 10 points under paragraphs 10 to 14 of Appendix C.'}),\n (_481:Rule {desc: '(ca)  The applicant must, if required to do so on examination or interview, be able to demonstrate without the assistance of an interpreter English language proficiency of a standard to be expected from an individual who has reached the standard specified in a Confirmation of Acceptance for Studies assigned in accordance with Appendix A paragraph 118(b) (for the avoidance of doubt, the applicant will not be subject to a test at the standard set out in Appendix A, paragraph 118(b).'}),\n (_482:Rule {desc: '(da)  If the applicant wishes to undertake a course:\\n    \\n(i) undergraduate or postgraduate studies leading to a Doctorate or Masters degree by research in one of the disciplines listed in paragraph 1 of Appendix 6 of these Rules, or\\n(ii) undergraduate or postgraduate studies leading to a taught Masters degree or other postgraduate qualification in one of the disciplines listed in paragraph 2 of Appendix 6 of these Rules, or\\n(iii) a period of study or research in one of the disciplines listed in paragraphs 1 or 2 of Appendix 6 of these Rules at a higher education provider where this forms part of an overseas postgraduate qualification\\n\\n'}),\n (_483:Rule {desc: 'the applicant must hold a valid Academic Technology Approval Scheme clearance certificate from the Counter-Proliferation Department of the Foreign and Commonwealth Office which relates to the course, or area of research, that the applicant will be taking and at the institution at which the applicant wishes to undertake it and must provide a print-out of his Academic Technology Approval Scheme clearance certificate to show that these requirements have been met.'}),\n (_484:Rule {desc: '(e) If the applicant wishes to be a postgraduate doctor or dentist on a recognised Foundation Programme:\\n    \\n(i) the applicant must have successfully completed a recognised UK degree in medicine or dentistry from:\\n        \\n(1) an institution with a Tier 4 sponsor licence,\\n(2) a UK publicly funded further education institution or higher education provider or\\n(3) a UK bona fide private education institution which maintains satisfactory records of enrolment and attendance,\\n\\n\\n(ii) the applicant must have previously been granted leave:\\n        \\n(1) as a Tier 4 (General) Student, or as a Student, for the final academic year of the studies referred to in paragraph (i) above, and\\n(2) as a Tier 4 (General) Student, or as a Student, for at least one other academic year (aside from the final year) of the studies referred to in paragraph (i) above,\\n\\n\\n(iii) if the applicant has previously been granted leave as a Postgraduate Doctor or Dentist, the applicant must not be seeking entry clearance or leave to enter or remain to a date beyond 3 years from the date on which he was first granted leave to enter or remain in that category, and\\n(iv) if the applicant has previously been granted leave as a Tier 4 (General) Student to undertake a course as a postgraduate doctor or dentist, the applicant must not be seeking entry clearance or leave to enter or remain to a date beyond 3 years from the date on which the applicant was first granted leave to undertake such a course.\\n\\n'}),\n (_485:Rule {desc: '(f) If the applicant is currently being sponsored wholly by a Government or international sponsorship agency by means of an award which covers both fees and maintenance, or within the last 12 months has come to the end of such a period of sponsorship, the applicant must provide the written consent of the sponsoring Government or agency to the application and must provide the specified documents as set out in paragraph 245A above, to show that this requirement has been met.'}),\n (_486:Rule {desc: '(g) If the course is below degree level the grant of entry clearance the applicant is seeking must not lead to the applicant having been granted more than 2 years in the UK as a Tier 4 Migrant since the age of 18 to study courses that did not consist of degree level study.'}),\n (_487:Rule {desc: 'For the avoidance of doubt, the calculation of whether the applicant has exceeded the time limit will be based on what was previously granted by way of period of leave and  level of course rather than (if different) periods and courses actually studied.'}),\n (_488:Rule {desc: '(gaa) Where a course is below degree level, but is subject to a regulatory requirement by the Maritime and Coastguard Agency that the applicant must spend at least 12 months at sea as a part of that course, the grant of entry clearance the applicant is seeking must not lead to the applicant having been granted more than 3 years in the UK as a Tier 4 Migrant since the age of 18 to study courses that did not consist of study at degree level or above.'}),\n (_489:Rule {desc: 'For the avoidance of doubt, any grant made will be for the duration of the entire course including time expected to be spent at sea and the calculation of whether the applicant has exceeded the time limit will be based on what was previously granted by way of period of leave and the level of course rather than (if different) periods and courses actually studied.'}),\n (_490:Rule {desc: '(k) Where the applicant is under 18 years of age, the applicant\\u2019s parents or legal guardian, or just one parent if that parent has sole legal responsibility for the child, must confirm that they consent to the arrangements for the applicant\\u2019s care in the UK.'}),\n (_491:Rule {desc: '(n) Where the applicant is applying for leave to remain as a Tier 4 (General) Student on the doctorate extension scheme:\\n    \\n(i) leave to remain as a Tier 4 (General) Student on the doctorate extension scheme must not have previously been granted;\\n(ii) the applicant must have entry clearance or leave to remain as a Tier 4 (General) Student and must be following a course leading to the award of a PhD;\\n(iii) the applicant must be sponsored by a higher education provider with a track record of compliance and that sponsor will be the sponsor awarding the PhD; and\\n(iv) the date of the application must be within 60 days of the expected end date of a course leading to the award of a PhD.\\n\\n'}),\n (_492:Rule {desc: '(o) the Secretary of State must be satisfied that the applicant is a genuine student.'}),\n (_493:Rule {desc: '(a) Subject to paragraphs (b), (ba) and (c) below, leave to remain will be granted for the duration of the course.'}),\n (_494:Rule {desc: '(b) In addition to the period of leave to remain granted in accordance with paragraph (a), leave to remain will also be granted for the periods set out in the following table. Notes to accompany the table appear below the table.'}),\n (_495:Rule {desc: '(ba) Leave to remain as a Tier 4 (General) Student on the doctorate extension scheme will be granted for 12 months, commencing on the expected end date of a course leading to the award of a PhD.'}),\n (_496:Rule {desc: '(bb) Leave to remain as a Tier 4 (General) Student on the doctorate extension scheme will not be subject to the conditions on the limited time that can be spent as a Tier 4 (General) Student or as a student, specified at 245ZX (hb).'}),\n (_497:Rule {desc: '(c) Leave to remain will be granted subject to the following conditions:\\n    \\n(i) no recourse to public funds,\\n(ii) registration with the police, if this is required by paragraph 326 of these Rules,\\n(iii) no employment except:\\n        \\n(1) employment during term time of no more than 20 hours per week and employment (of any duration) during vacations, where the student is following a full-time course of degree level study and is either:\\n            \\n(a) sponsored by a higher education provider with a track record of compliance; or\\n(b) sponsored by an overseas higher education institution to undertake a short-term Study Abroad Programme in the United Kingdom.\\n\\n\\n(2)\\temployment during term time of no more than 10 hours per week and employment (of any duration) during vacations, where the student is following a course of below degree level study and is sponsored by a higher education provider with a track record of compliance,\\n(3) DELETED\\n(4) employment as part of a course-related work placement which forms an assessed part of the applicant\\u2019s full-time course and provided that any period that the applicant spends on that placement does not exceed one third of the total length of the course undertaken in the UK except:\\n            \\n(i) where it is a United Kingdom statutory requirement that the placement should exceed one third of the total length of the course; or\\n(ii) where the placement does not exceed one half of the total length of the course undertaken in the UK and the student is following a course of degree level study and is either:\\n                \\n(a) sponsored by a higher education provider with a track record of compliance; or\\n(b) sponsored by an overseas higher education institution to undertake a short-term study abroad programme in the United Kingdom.\\n\\n\\n\\n\\n(5) employment as a Student Union Sabbatical Officer for up to 2 years provided the post is elective and is at the institution which is the applicant\\u2019s sponsor or they must be elected to a national National Union of Students (NUS) position,\\n(6) employment as a Postgraduate Doctor or Dentist on a recognised Foundation Programme\\n(7) until such time as a decision is received from the Home Office on an application which is supported by a Certificate of Sponsorship assigned by a licensed Tier 2 Sponsor and which is made within three months of the date that the applicant\\u2019s sponsor expects them to complete, or following successful completion of, a full-time course at degree level or above at a higher education provider with a track record of compliance and while the applicant has extant leave, and any appeal or administrative review against that decision has been determined, employment with the Tier 2 Sponsor institution, in the role for which they assigned the Certificate of Sponsorship to the Tier 4 migrant,\\n(8) self-employment, providing the migrant has made an application for leave to remain as a Start-up migrant, which is supported by an endorsement from a qualifying higher education provider with a track record of compliance and while the applicant has extant leave, until such time as a decision is received from the Home Office on an application and any appeal or administrative review against that decision has been determined,\\n\\n\\n\\n'}),\n (_498:Rule {desc: 'provided that the migrant is not self-employed or engaged in business activity other than under the conditions of (8) above, or employed as a Doctor or Dentist in Training other than under the conditions of (v) below, a professional sportsperson (including a sports coach) or an entertainer, and provided that the migrant\\u2019s employment would not fill a permanent full time vacancy other than under the conditions of (7) above, or a vacancy on a recognised Foundation Programme or as a sabbatical officer.\\n    \\n(9) where, during the current period of leave, the migrant has successfully completed a PhD at a higher education provider with a track record of compliance, and has been granted leave to remain as a Tier 4 (General) Student on the doctorate extension scheme or has made a valid application for leave to remain as a Tier 4 (General) Student on the doctorate extension scheme but has not yet received a decision from the Home Office on that application, there will be no limitation on the type of employment that may be taken, except for:\\n        \\n(a) no employment as a Doctor or Dentist in Training other than under the conditions of (v) below;\\n(b) no employment as a professional sportsperson (including a sports coach).\\n\\n\\n(iv) no study except:\\n        \\n(1) study at the institution that the Confirmation of Acceptance for   Studies Checking Service records as the migrant\\u2019s sponsor, unless:\\n            \\n(a) the migrant is studying at an institution which is a partner institution of the migrant\\u2019s sponsor; or\\n(b) until such time as a decision is received from the Home  Office on an application which is supported by a Confirmation of Acceptance for Studies assigned by a sponsor with Tier 4 Sponsor status and which is made while the applicant has extant leave, and any appeal or administrative review against that decision has been determined, the migrant is studying at the sponsor with Tier 4 Sponsor status that the Confirmation of Acceptance for Studies Checking Service records as having assigned such Confirmation of Acceptance for Studies to the migrant; or\\n(c) the study is supplementary study, \\nand\\n\\n\\n(2) study on the course, or courses where a pre-sessional is included, for which the Confirmation of Acceptance for Studies was assigned, unless the student:\\n            \\n(a) has yet to complete the course for which the Confirmation of Acceptance for Studies was assigned; and\\n(b) begins studying a new course at their sponsor institution, instead of the course for which the Confirmation of Acceptance for Studies was assigned, and:\\n                \\n1. the course is taught by a higher education provider with a track record of compliance which is also the sponsor,\\n2. the course is at degree level or above,\\n3. the new course is not at a lower level than the previous course for which the applicant was granted leave as a Tier 4 (General) Student or as a Student,\\n4. the sponsor has Tier 4 Sponsor status,\\n5. if the course is at degree level, the applicant will be able to complete the new course within their extant period of leave, and\\n6. if the applicant has previously been granted leave as a Tier 4 (General) Student or as a Student, the sponsor confirms that:\\n                    \\na. the course is related to the previous course for which the applicant was granted leave as a Tier 4 (General) Student or as a Student, meaning that it is either connected to the previous course, part of the same subject group, or involves deeper specialisation, or\\nb. the previous course and the new course in combination support the applicant\\u2019s genuine career aspirations,\\n\\n\\n\\n\\n\\n\\nand\\n(2A) study on a study abroad programme at a partner institution of the applicant\\u2019s existing sponsor, which is an integral and assessed part of \\nthe course for which the Confirmation of Acceptance for Studies was assigned (regardless of when it is added to the course),\\n            \\nand\\n\\n\\n(3) subject to (1) and (2), study on a course (or period of research) to which paragraph 245ZX(ea) applies only if the migrant holds a valid Academic Technology Approval Scheme certificate issued prior to the commencement of the course (or period of research) that specifically relates to the course or (area of research) and to the institution at which the migrant undertakes such course (or period of research).  Where:\\n            \\n(a) the migrant\\u2019s course (or research) completion date     reported on the Confirmation of Acceptance for Studies is postponed or delayed for a period of more than three calendar months, or if there are any changes to the course contents (or the research proposal), the migrant must apply for a new Academic Technology Approval Scheme certificate within 28 calendar days.\\n(b) the migrant begins studying a new course (or period of research) as permitted in (2) above and the new course (or period of research) is of a type specified in paragraph 245ZX(ea), the migrant must obtain an Academic Technology Approval Scheme clearance certificate from the Counter-Proliferation Department of the Foreign and Commonwealth Office relating to the new course (or area of research) prior to commencing it.\\n\\n\\n\\n\\n(v) no employment as a Doctor or Dentist in Training unless:\\n        \\n(1) the course that the migrant is being sponsored to do (as recorded by the Confirmation of Acceptance for Studies Checking Service) is a recognised Foundation Programme, or\\n(2) the migrant has made an application as a Tier 4 (General) Student which is supported by a Confirmation of Acceptance for Studies assigned by a sponsor with Tier 4 Sponsor status to sponsor the applicant to do a recognised Foundation Programme, and this study satisfies the requirements of (iv)(2) above, or\\n(3) the migrant has made an application as a Tier 2 (General) Migrant which is supported by a Certificate of Sponsorship assigned by a licensed Tier 2 Sponsor to sponsor the applicant to work as a Doctor or Dentist in Training, and this employment satisfies the conditions of (iii)(7) above.\\n\\n\\n(vi) no study at state funded schools \\u2013 except for voluntary grammar schools with boarding in Northern Ireland \\u2013 and academies, except where the migrant has been granted leave to remain to study at an institution which holds a sponsor licence under Tier 4 of the Points Based System which becomes an Academy or a state funded school during the migrant\\u2019s period of study, in which case the migrant may complete the course for which the Confirmation of Acceptance for Studies was assigned, but may not commence a new course at that institution.\\n\\n'}),\n (_500:Rule {desc: 'Requirements:'}),\n (_501:Rule {desc: '(a) The applicant must not fall for refusal under the general grounds for refusal and must not be an illegal entrant.'}),\n (_502:Rule {desc: '(b)\\tThe applicant must have, or last been granted, entry clearance, leave to enter or leave to remain:\\n    \\n(i) as a Tier 4 (General) Student, and in respect of such leave, is or was last sponsored by:\\n        \\n(1) a higher education provider with a track record of compliance; or\\n(2) an overseas higher education institution to undertake a short-term study abroad programme in the United Kingdom; or\\n(3) an Embedded College offering Pathway Courses; or\\n(4) an independent school,\\n\\n\\n(ii) as a Tier 4 (Child) student,\\n(iii) as a Tier 2 Migrant.\\n\\n'}),\n (_503:Rule {desc: '(c) The applicant must have a minimum of 30 points under paragraphs 113 to 120 and 120A of Appendix A.'}),\n (_504:Rule {desc: '(d) The applicant must have a minimum of 10 points under paragraphs 10 to 14 of Appendix C.'}),\n (_505:Rule {desc: '(da)  The applicant must, if required to do so on examination or interview, be able to demonstrate without the assistance of an interpreter English language proficiency of a standard to be expected from an individual who has reached the standard specified in a Confirmation of Acceptance for Studies assigned in accordance with Appendix A paragraph 118(b) (for the avoidance of doubt, the applicant will not be subject to a test at the standard set out in Appendix A, paragraph 118(b)).'}),\n (_506:Rule {desc: '(ea)  if the applicant wishes to undertake a course:\\n    \\n(i) undergraduate or postgraduate studies leading to a Doctorate or Masters degree by research in one of the disciplines listed in paragraph 1 of Appendix 6 of these Rules, or\\n(ii) undergraduate or postgraduate studies leading to a taught Masters degree or other postgraduate qualification in one of the disciplines listed in paragraph 2 of Appendix 6 of these Rules, or\\n(iii) a period of study or research in one of the disciplines listed in paragraphs 1 or 2 of Appendix 6 of these Rules at a higher education provider where this forms part of an overseas postgraduate qualification\\n\\n'}),\n (_507:Rule {desc: 'the applicant must hold a valid Academic Technology Approval Scheme clearance certificate from the Counter-Proliferation Department of the Foreign and Commonwealth Office which relates to the course, or area of research, that the applicant will be taking and at the institution at which the applicant wishes to undertake it and must provide a print-out of his Academic Technology Approval Scheme clearance certificate to show that these requirements have been met.'}),\n (_508:Rule {desc: 'Applicants applying for leave to remain under the doctorate extension scheme are not required to meet the conditions of paragraph 245ZX (ea) if they continue to study on a course (or period of research) for which they have a valid Academic Technology Approval Scheme certificate.'}),\n (_509:Rule {desc: '(f) If the applicant wishes to be a postgraduate doctor or dentist on a recognised Foundation Programme:\\n    \\n(i) the applicant must have successfully completed a recognised UK degree in medicine or dentistry from:\\n        \\n(1) an institution with a Tier 4 sponsor licence,\\n(2) a UK publicly funded further education institution or higher education provider or\\n(3) a UK bona fide private education institution which maintains satisfactory records of enrolment and attendance,\\n\\n\\n(ii) the applicant must have previously been granted leave:\\n        \\n(1) as a Tier 4 (General) Student, or as a Student, for the final academic year of the studies referred to in paragraph (i) above, and\\n(2) as a Tier 4 (General) Student, or as a Student, for at least one other academic year (aside from the final year) of the studies referred to in paragraph (i) above,\\n\\n\\n(iii) if the applicant has previously been granted leave as a Postgraduate Doctor or Dentist the applicant must not be seeking entry clearance or leave to enter or remain to a date beyond 3 years from the date on which he was first granted leave to enter or remain in that category, and\\n(iv) if the applicant has previously been granted leave as a Tier 4 (General) Student to undertake a course as a postgraduate doctor or dentist, the applicant must not be seeking entry clearance or leave to enter or remain to a date beyond 3 years from the date on which he was first granted leave to undertake such a course.\\n\\n'}),\n (_510:Rule {desc: '(g) If the applicant is currently being sponsored wholly by a Government or international sponsorship agency by means of an award which covers both fees and maintenance, or within the last 12 months has come to the end of such a period of sponsorship, the applicant must provide the unconditional written consent of the sponsoring Government or agency to the application and must provide the specified documents as set out in paragraph 245A above, to show that this requirement has been met.'}),\n (_511:Rule {desc: '(h) If the course is below degree level the grant of leave to remain the applicant is seeking must not lead to the applicant having been granted more than 2 years in the UK as a Tier 4 Migrant since the age of 18 to study courses that did not consist of degree level study.'}),\n (_512:Rule {desc: 'For the avoidance of doubt, the calculation of whether the applicant has exceeded the time limit will be based on what was previously granted by way of period of leave and  level of course rather than (if different) periods and courses actually studied.'}),\n (_513:Rule {desc: '(haa) If the course is below degree level, but is subject to a regulatory requirement by the Maritime and Coastguard Agency that the applicant must spend at least 12 months at sea as a part of that course, the grant of leave the applicant is seeking must not lead to the applicant having been granted more than 3 years in the UK as a Tier 4 Migrant since the age of 18 to study courses that did not consist of study at degree level or above.'}),\n (_514:Rule {desc: 'For the avoidance of doubt, any grant made will be for the entire duration of the course including time expected to be spent at sea and the calculation of whether the applicant has exceeded the time limit will be based on what was previously granted by way of the period of leave and the level of course rather than (if different) periods and courses actually studied.'}),\n (_515:Rule {desc: '(ha) If the course is at degree level or above, the grant of leave to remain the applicant is seeking must not lead to the applicant having been granted more than 5 years in the UK since the age of 18 as a Tier 4 (General) Migrant, or as a Student, to study courses at degree level or above unless:\\n    \\n(i) the applicant has successfully completed a course at degree level in the UK of a minimum duration of 4 academic years, and will follow a course of study at Masters degree level sponsored by a higher education provider with a track record of compliance, and the grant of leave to remain must not lead to the applicant having spent more than 6 years in the UK since the age of 18 as a Tier 4 (General) Migrant, or as a Student, studying courses at degree level or above; or\\n(ii) the grant of leave to remain is to follow a course leading to the award of a PhD and the applicant is sponsored by a higher education provider with a track record of compliance; or\\n(iii) the applicant is following a course of study in;\\n        \\n(1) Architecture;\\n(2) Medicine;\\n(3) Dentistry;\\n(4) Law, where the applicant has completed a course at degree level in the UK and is progressing to:\\n            \\na. a law conversion course validated by the Joint Academic Stage Board in England and Wales, a Masters in Legal Science (MLegSc) in Northern Ireland, or an accelerated graduate LLB in Scotland; or\\nb. the Legal Practice Course in England and Wales, the Solicitors Course in Northern Ireland, or a Diploma in Professional Legal Practice in Scotland; or\\nc. the Bar Professional Training Course in England and Wales, or the Bar Course in Northern Ireland.\\n\\n\\n(5) Veterinary Medicine & Science; or\\n(6) Music at a music college that is a member of Conservatoires UK (CUK).\\n\\n\\n\\n'}),\n (_516:Rule {desc: 'For the avoidance of doubt, the calculation of whether the applicant has exceeded the time limit will be based on what was previously granted by way of period of leave and  level of course rather than (if different) periods and courses actually studied.'}),\n (_517:Rule {desc: '(hb)  If the applicant has completed a course leading to the award of a PhD, postgraduate research qualification or a Masters degree by research in the UK, the grant of leave to remain the applicant is seeking must not lead to the applicant having spent more than 8 years in the UK since the age of 18 as a Tier 4 (General) Migrant, or as a Student.'}),\n (_518:Rule {desc: '(i) The applicant must be at least 16 years old.'}),\n (_519:Rule {desc: '(j) Where the applicant is under 18 years of age, the application must be supported by the applicant\\u2019s parents or legal guardian, or by just one parent if that parent has sole legal responsibility for the child.'}),\n (_520:Rule {desc: '(ka) \\tWhere the consent of the applicant\\u2019s parent(s) or legal guardian is required, evidence of how the applicant is related to the consenting party must be provided with the application. A copy of one of the following documents can be used:\\n    \\n(i) a birth certificate showing the names of the applicant\\u2019s parent(s),\\n(ii) a certificate of adoption showing the names of the applicant\\u2019s parent(s) or legal guardian, or\\n(iii) a Court document naming the applicant\\u2019s legal guardian.\\n\\n'}),\n (_521:Rule {desc: '(l) Unless applying for leave to remain as a Tier 4 (General) Student on the doctorate extension scheme, the applicant must be applying for leave to remain for the purpose of studies which commence within 28 days of the expiry of the applicant\\u2019s current or most recent leave to enter or remain or,  where the application is made in circumstances to which paragraph 39E(2) applies, within 28 days of the relevant event specified under paragraph 39E(2)(b).'}),\n (_522:Rule {desc: '(m) The applicant must not be in the UK in breach of immigration laws except that, where paragraph 39E of these Rules applies, any current period of overstaying will be disregarded.'}),\n (_523:Rule {desc: '(i) If the grant of leave to remain is being made less than 1 month or, in the case of a course of less than 6 months that is not a pre-sessional course, less than 7 days before the start of the course, leave to remain will be granted with immediate effect.\\n    \\n(ii) A pre-sessional course is a course which prepares a student for the student\\u2019s main course of study in the UK.\\n(iii) The additional periods of leave to remain granted further to the table above will be included for the purposes of calculating whether a migrant has exceeded the limits specified at 245ZX(h) to 245ZX(hb).\\n\\n'})]"
     },
     "metadata": {},
     "execution_count": 55
    }
   ],
   "source": [
    "rules = list(matcher.match('Rule'))\n",
    "rules"
   ]
  },
  {
   "cell_type": "code",
   "execution_count": null,
   "metadata": {},
   "outputs": [],
   "source": []
  }
 ],
 "metadata": {
  "kernelspec": {
   "display_name": "Python 3",
   "language": "python",
   "name": "python3"
  },
  "language_info": {
   "codemirror_mode": {
    "name": "ipython",
    "version": 3
   },
   "file_extension": ".py",
   "mimetype": "text/x-python",
   "name": "python",
   "nbconvert_exporter": "python",
   "pygments_lexer": "ipython3",
   "version": "3.7.3-final"
  }
 },
 "nbformat": 4,
 "nbformat_minor": 2
}